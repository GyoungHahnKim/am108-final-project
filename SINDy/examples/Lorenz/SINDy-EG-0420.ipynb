{
 "cells": [
  {
   "cell_type": "code",
   "execution_count": 2,
   "metadata": {
    "ExecuteTime": {
     "end_time": "2017-09-07T07:23:27.977553Z",
     "start_time": "2017-09-07T07:23:27.236848Z"
    },
    "code_folding": [
     0
    ],
    "collapsed": false
   },
   "outputs": [
    {
     "name": "stdout",
     "output_type": "stream",
     "text": [
      "Using matplotlib backend: Qt5Agg\n",
      "Populating the interactive namespace from numpy and matplotlib\n"
     ]
    },
    {
     "data": {
      "text/html": [
       "\n",
       "<style>\n",
       ".output_png {\n",
       "    display: table-cell\n",
       "    text-align: right;\n",
       "    vertical-align: middle;\n",
       "}\n",
       "</style>\n"
      ],
      "text/plain": [
       "<IPython.core.display.HTML object>"
      ]
     },
     "execution_count": 2,
     "metadata": {},
     "output_type": "execute_result"
    }
   ],
   "source": [
    "# import torch\n",
    "# from torch.autograd import Variable\n",
    "from sparse_identification.utils import derivative \n",
    "import pandas as pd\n",
    "\n",
    "#--> Standard python library.\n",
    "%pylab\n",
    "\n",
    "#--> Matplotlib-related.\n",
    "%matplotlib inline\n",
    "from matplotlib.gridspec import GridSpec\n",
    "import matplotlib.patches as patches\n",
    "from mpl_toolkits.mplot3d import Axes3D\n",
    "\n",
    "# params = {'text.usetex' : True,\n",
    "#           'font.size' : 8*2,\n",
    "#           'font.family' : 'lmodern',\n",
    "#           'text.latex.unicode' : True}\n",
    "# plt.rcParams['text.latex.preamble']=[r'\\usepackage{lmodern}', r'\\usepackage{bm}']\n",
    "# plt.rcParams.update(params)\n",
    "plt.style.use('seaborn-muted')\n",
    "w = 10 # plot figure width\n",
    "from IPython.core.display import HTML\n",
    "HTML(\"\"\"\n",
    "<style>\n",
    ".output_png {\n",
    "    display: table-cell\n",
    "    text-align: right;\n",
    "    vertical-align: middle;\n",
    "}\n",
    "</style>\n",
    "\"\"\")\n",
    "# from latex_envs.latex_envs import figcaption"
   ]
  },
  {
   "cell_type": "markdown",
   "metadata": {},
   "source": [
    "\\title{A (very) quick introduction to SINDy}\n",
    "\\author{Kevin, Joel, Elbert$^1$}\n",
    "\\maketitle\n",
    "$^1$Harvard University\n",
    "<center>**Abstract**</center>\n",
    "After a quick presentation of the training and testing datasets used, the system identification capabilities of SINDy are illustrated using time-series of the Lorenz system. Four different algorithms for system identification have been implemented so far and will be compared:\n",
    "- Ordinary Least-Squares\n",
    "- Sequentially hard-thresholded ordinary least-squares\n",
    "- $\\ell_1$-penalized least-squares.\n",
    "\n",
    "Wait that's only 3 though\\\\\n",
    "\n",
    "\\begin{equation}\n",
    "    \\begin{aligned}\n",
    "        & \\dot{x} = \\sigma (y-x) \\\\\n",
    "        & \\dot{y} = x(\\rho -z) - y \\\\\n",
    "        & \\dot{z} = xy - \\beta z\n",
    "    \\end{aligned}\n",
    "    \\label{eq: Lorenz system}\n",
    "\\end{equation}\n",
    "Lorenz example $\\sigma = 10$, $\\beta = \\displaystyle \\frac{8}{3}$ and $\\rho=28$."
   ]
  },
  {
   "cell_type": "code",
   "execution_count": null,
   "metadata": {
    "collapsed": false
   },
   "outputs": [],
   "source": []
  },
  {
   "cell_type": "code",
   "execution_count": 3,
   "metadata": {
    "collapsed": false
   },
   "outputs": [],
   "source": [
    "class PCA():\n",
    "    def __init__(self, list_of_matrices, nmodes):\n",
    "        orig_dim = list_of_matrices[0].shape[1]\n",
    "        assert(all(matrix.shape[1]==orig_dim for matrix in list_of_matrices))\n",
    "        X = np.concatenate(list_of_matrices, 1)\n",
    "        U, s, VT = np.linalg.svd(X)\n",
    "        self.param_dict = {'U':U,'s':s,'VT':VT}\n",
    "        self.nmodes = nmodes\n",
    "        # np.matmul(U, np.matmul(S,VT[:,:modes]))\n",
    "    def forward(self,matrix):\n",
    "        return np.matmul(matrix, self.param_dict['VT'][:,:self.nmodes])\n",
    "        \n",
    "    def plot_SVs(self):\n",
    "        # S = np.zeros([self.param_dict['U'].shape[0],self.param_dict['VT'].shape[0]])\n",
    "        # S[0:nmodes,0:nmodes] = np.eye(nmodes)\n",
    "        plt.plot(np.log(self.param_dict['s']))\n",
    "        plt.show()\n",
    "        \n",
    "def PCA_project(X, modes, plot_SVs=True):\n",
    "    # SVD of X\n",
    "    U, s, VT = np.linalg.svd(X)\n",
    "    \n",
    "    # construct S matrix with S_vector -- there must be a better way to do this?\n",
    "    S = np.zeros([U.shape[0],VT.shape[0]])\n",
    "    for i in range(modes):\n",
    "        S[i,i] = s[i]\n",
    "\n",
    "#     print(\"shapes\", X.shape, U.shape,S.shape,VT[:,:modes].shape, (U@S@VT[:,:modes]).shape)\n",
    "    plt.plot(np.log(s))\n",
    "    plt.show()\n",
    "    return np.matmul(U, np.matmul(S,VT[:,:modes]))"
   ]
  },
  {
   "cell_type": "code",
   "execution_count": null,
   "metadata": {
    "collapsed": false
   },
   "outputs": [],
   "source": []
  },
  {
   "cell_type": "code",
   "execution_count": 21,
   "metadata": {
    "ExecuteTime": {
     "end_time": "2017-09-07T07:23:28.985546Z",
     "start_time": "2017-09-07T07:23:28.621600Z"
    },
    "code_folding": [
     0
    ],
    "collapsed": false
   },
   "outputs": [
    {
     "data": {
      "image/png": "[encoded data removed]",
      "text/plain": [
       "<matplotlib.figure.Figure at 0xe189898>"
      ]
     },
     "metadata": {},
     "output_type": "display_data"
    }
   ],
   "source": [
    "# --> Simulating the Lorenz system.\n",
    "# from Lorenz import Lorenz\n",
    "# --> Sets the parameters to their classical values.\n",
    "# sigma, rho, beta = 10., 28., 8./3.\n",
    "\n",
    "# --> Integration time.\n",
    "t = np.linspace(0, 319, 320)\n",
    "assert(t[1]-t[0]==1)\n",
    "# Lorenz.py assumes the times are in increments of 1\n",
    "# 0,20,100\n",
    "\n",
    "# --> Produce the date to be used in the sparse identification.\n",
    "# x0 = np.array([-1, -1, -1]) # Initial condition.\n",
    "# x, dx = Lorenz(x0, sigma, rho, beta, t)\n",
    "\n",
    "fulldata = pd.read_csv(\"../../../rnndata/worldtour.csv\", header = None).values\n",
    "x = PCA_project(fulldata, 3, False)\n",
    "inputs = pd.read_csv(\"../../../rnndata/worldtour_inputs.csv\", header = None).values # 4-22 new\n",
    "# x = np.hstack([x,inputs])\n",
    "dx = np.gradient(x)\n",
    "dx = dx[0]\n",
    "\n",
    "# Other way:\n",
    "# pca = PCA([fulldata],3)\n",
    "# x = pca.forward(fulldata) # and make dx as above\n",
    "# equivalently, dx = pca.forward(np.gradient(fulldata)[0])\n",
    "# not equivalent to running a whole new SVD on np.gradient(fulldata)[0] \n",
    "\n",
    "\n",
    "# use first element of dx, dx[0], to return time derivative dx/dt \n",
    "# dx0 = derivative(X, t[1]-t[0])\n",
    "# --> Slightly different initial condition to highlight the chaotic nature. # hey we should try this too!\n",
    "# y0 = np.array([-8.01, 7., 27.]) # Initial condition.\n",
    "# y, dy = Lorenz(y0, sigma, rho, beta, t)\n",
    "\n",
    "# They cheated with their initial conditions. What should our IC be?\n",
    "y0 = x[1] # need this for last step odeint"
   ]
  },
  {
   "cell_type": "code",
   "execution_count": 22,
   "metadata": {
    "ExecuteTime": {
     "end_time": "2017-09-07T07:23:30.702596Z",
     "start_time": "2017-09-07T07:23:29.049961Z"
    },
    "code_folding": [
     0
    ],
    "collapsed": false
   },
   "outputs": [
    {
     "data": {
      "text/plain": [
       "<matplotlib.text.Text at 0xe3a58d0>"
      ]
     },
     "execution_count": 22,
     "metadata": {},
     "output_type": "execute_result"
    },
    {
     "data": {
      "image/png": "[encoded data removed]",
      "text/plain": [
       "<matplotlib.figure.Figure at 0xe695828>"
      ]
     },
     "metadata": {},
     "output_type": "display_data"
    }
   ],
   "source": [
    "# --> Plot time traces of the two trajectories as well as the corresponding strange attractor.\n",
    "fig = plt.figure(figsize=(1.5*w, w/2))\n",
    "gs = GridSpec(3, 6)\n",
    "\n",
    "ax0 = fig.add_subplot(gs[0, :3])\n",
    "ax0.plot(t, x[:, 0])\n",
    "# ax0.plot(t, y[:, 0])\n",
    "ax0.set_ylabel('x')\n",
    "ax0.set_xticks([])\n",
    "ax0.set_xlim(0, 320)\n",
    "\n",
    "ax1 = fig.add_subplot(gs[1, :3])\n",
    "ax1.plot(t, x[:, 1])\n",
    "# ax1.plot(t, y[:, 1])\n",
    "ax1.set_ylabel('y')\n",
    "ax1.set_xticks([])\n",
    "ax1.set_xlim(0, 320)\n",
    "\n",
    "ax2 = fig.add_subplot(gs[2, :3])\n",
    "ax2.plot(t, x[:, 2])\n",
    "# ax2.plot(t, y[:, 2])\n",
    "ax2.set_ylabel('z')\n",
    "ax2.set_xlabel('t')\n",
    "ax2.set_xlim(0, 320)\n",
    "\n",
    "ax3 = fig.add_subplot(gs[:, 3:], projection='3d')\n",
    "ax3.plot(x[:, 0], x[:, 1], x[:, 2])\n",
    "# ax3.plot(y[:, 0], y[:, 1], y[:, 2])\n",
    "ax3.set_xlabel('x', labelpad=10)\n",
    "ax3.set_ylabel('y')\n",
    "ax3.set_zlabel('z')\n"
   ]
  },
  {
   "cell_type": "code",
   "execution_count": null,
   "metadata": {
    "collapsed": true
   },
   "outputs": [],
   "source": []
  },
  {
   "cell_type": "markdown",
   "metadata": {},
   "source": [
    "Does our thing have sensitivity to initial conditions? \\cite{book:sparrow:2012}\n",
    "\n",
    "\\section{Identification}\n",
    "\n",
    "In the following, we will compare the capabilities of different algorithms used to solve the system identification problem presented earlier. For that purpose, the dictionary of functions considered is given by\n",
    "\n",
    "$$\n",
    "    \\Theta({\\bf x}) = \\begin{bmatrix} 1 & {\\bf x} & P_2({\\bf x}) & P_3({\\bf x}) & P_4({\\bf x}) & P_5({\\bf x}) \\end{bmatrix}\n",
    "$$\n",
    "\n",
    "where $P_i({\\bf x})$ is a dictionary consisting of all the i-th order polynomials in the entries of ${\\bf x}$. For $i=2$, this dictionary is thus given by\n",
    "\n",
    "$$\n",
    "    P_2({\\bf x}) = \\begin{bmatrix} x^2 & xy & xz & y^2 & yz & z^2\\end{bmatrix}\n",
    "$$\n",
    "\n",
    "The scikit-learn package provides useful utilities functions to construct such dictionaries of functions."
   ]
  },
  {
   "cell_type": "code",
   "execution_count": 23,
   "metadata": {
    "ExecuteTime": {
     "end_time": "2017-09-07T07:23:30.717584Z",
     "start_time": "2017-09-07T07:23:30.704427Z"
    },
    "collapsed": true
   },
   "outputs": [],
   "source": [
    "# --> Creation of the library Theta.\n",
    "from sklearn.preprocessing import PolynomialFeatures\n",
    "library = PolynomialFeatures(degree=5, include_bias=True) # too scared\n",
    "# library.get_feature_names() or get_params()\n",
    "Theta = library.fit_transform(x) # timesteps (320) by num_features (56) (or 59 lol)\n",
    "Theta = np.hstack([Theta,inputs]) # modified here to throw in inputs\n",
    "n_lib = library.n_output_features_ +3\n",
    "# Ok I'm basically tacking on the inputs as a linear term. But that's a simplification\n",
    "# I could throw them in earlier so sindy tries nonlinear terms with inputs in them\n",
    "\n",
    "from scipy.linalg import block_diag\n",
    "A = block_diag(Theta, Theta, Theta) # 3x(320 by 56)\n",
    "b = dx.flatten(order='F')[:len(t)*3] # 960"
   ]
  },
  {
   "cell_type": "code",
   "execution_count": 24,
   "metadata": {
    "collapsed": false
   },
   "outputs": [
    {
     "name": "stdout",
     "output_type": "stream",
     "text": [
      "['__class__', '__delattr__', '__dict__', '__doc__', '__format__', '__getattribute__', '__getstate__', '__hash__', '__init__', '__module__', '__new__', '__reduce__', '__reduce_ex__', '__repr__', '__setattr__', '__setstate__', '__sizeof__', '__str__', '__subclasshook__', '__weakref__', '_combinations', '_get_param_names', 'degree', 'fit', 'fit_transform', 'get_feature_names', 'get_params', 'include_bias', 'interaction_only', 'n_input_features_', 'n_output_features_', 'powers_', 'set_params', 'transform']\n"
     ]
    },
    {
     "data": {
      "text/plain": [
       "((320L, 59L), (960L, 177L), (320L, 3L), (960L,))"
      ]
     },
     "execution_count": 24,
     "metadata": {},
     "output_type": "execute_result"
    }
   ],
   "source": [
    "print(dir(library))\n",
    "# with inputs, library.get_feature_names() etc are wrong\n",
    "Theta.shape,A.shape,dx.shape,b.shape"
   ]
  },
  {
   "cell_type": "markdown",
   "metadata": {},
   "source": [
    "\\subsection{Ordinary least squares}\n",
    "\n",
    "The ordinary least squares is probably the simplest approach existing for system identification. The corresponding minimization problem simply reads\n",
    "\n",
    "\\begin{equation}\n",
    "    \\min_{\\xi_{OLS}} \\| \\Theta({\\bf x})\\xi_{OLS} - \\dot{\\bf x} \\|_2^2\n",
    "\\end{equation}\n",
    "\n",
    "In this case, the least-squares solution vector $\\xi_{OLS}$ can very easily be obtained. Note however that, being unconstrained, this solution vector will be dense, i.e. all of its coefficients are non-zero."
   ]
  },
  {
   "cell_type": "code",
   "execution_count": null,
   "metadata": {
    "collapsed": false
   },
   "outputs": [],
   "source": []
  },
  {
   "cell_type": "code",
   "execution_count": 25,
   "metadata": {
    "ExecuteTime": {
     "end_time": "2017-09-07T09:43:55.630520Z",
     "start_time": "2017-09-07T09:43:55.510234Z"
    },
    "code_folding": [],
    "collapsed": false
   },
   "outputs": [
    {
     "name": "stdout",
     "output_type": "stream",
     "text": [
      "Total number of possible terms : 177\n",
      "Number of non-zero coefficients : 177\n",
      "Wall time: 12 ms\n"
     ]
    }
   ],
   "source": [
    "%%time\n",
    "# --> Least-squares estimator.\n",
    "from sparse_identification import sindy\n",
    "ols = sindy(l1=0, l2=0, solver='lstsq') # only 'lstsq' and 'lasso' are implemented\n",
    "\n",
    "# --> Fit the OLS model.\n",
    "ols.fit(A, b)\n",
    "print 'Total number of possible terms :', ols.coef_.size\n",
    "print 'Number of non-zero coefficients :', np.count_nonzero(ols.coef_)"
   ]
  },
  {
   "cell_type": "code",
   "execution_count": 26,
   "metadata": {
    "ExecuteTime": {
     "end_time": "2017-09-07T07:23:31.090057Z",
     "start_time": "2017-09-07T07:23:31.079281Z"
    },
    "code_folding": [
     0
    ],
    "collapsed": false
   },
   "outputs": [
    {
     "name": "stdout",
     "output_type": "stream",
     "text": [
      "Identified equation for x : \n",
      "\n",
      "[ -7.16136960e-02   3.85113787e-01   1.03733278e+00   2.10436594e+00\n",
      "   1.76767456e+01   4.75019271e+01   7.51156490e+01   2.54045064e+01\n",
      "   9.64909349e+01   8.01613174e+01  -1.15239653e+02  -6.17243550e+02\n",
      "  -9.05123285e+02  -9.49457757e+02  -2.81639428e+03  -2.03089591e+03\n",
      "  -4.17757208e+02  -2.05809074e+03  -3.13690889e+03  -1.54665120e+03\n",
      "  -2.38684517e+02  -1.13331732e+03  -1.88851267e+03  -2.02608651e+03\n",
      "  -6.65266721e+03  -5.79752743e+03  -1.71085981e+03  -8.06814352e+03\n",
      "  -1.34898593e+04  -8.02349821e+03  -5.40790106e+02  -3.41608161e+03\n",
      "  -8.27042855e+03  -9.53989360e+03  -4.35492644e+03   3.61404798e+03\n",
      "   2.33836070e+04   4.18245892e+04   5.77948864e+04   2.04475308e+05\n",
      "   1.81078983e+05   6.99328919e+04   3.66379631e+05   6.46293265e+05\n",
      "   3.78820265e+05   4.25099031e+04   2.90590775e+05   7.61286815e+05\n",
      "   8.94011659e+05   3.91382002e+05   1.03705629e+04   8.76596904e+04\n",
      "   3.01618686e+05   5.28659865e+05   4.65734508e+05   1.62918110e+05\n",
      "   1.33940912e-01   1.89678422e-01   1.25803525e-01] \n",
      "\n",
      "\n",
      " Identified equation for y : \n",
      "\n",
      "[ -9.29227041e-02  -1.18018237e+00   1.03924864e+00   1.24384257e+01\n",
      "   9.85040243e+00   2.79310900e+01   5.84412827e+01   2.44931953e+01\n",
      "   8.29410422e+01   6.72765535e+01   3.91640351e+01   1.43488642e+02\n",
      "  -4.16729111e+02   2.15833883e+02  -7.78479530e+02  -1.93572195e+03\n",
      "   6.57821129e+01  -4.28427171e+02  -2.18025408e+03  -2.24581362e+03\n",
      "  -4.98863429e+02  -2.20450464e+03  -3.99818810e+03  -3.58436404e+03\n",
      "  -1.32579856e+04  -1.16318823e+04  -2.56617111e+03  -1.47288651e+04\n",
      "  -2.66155247e+04  -1.53716852e+04  -7.29451409e+02  -5.59055352e+03\n",
      "  -1.55515305e+04  -1.83758854e+04  -7.81255013e+03   5.92554628e+03\n",
      "   3.54054224e+04   6.50651062e+04   8.22839804e+04   3.03026975e+05\n",
      "   2.70181069e+05   9.29905934e+04   5.18645571e+05   9.27926788e+05\n",
      "   5.43246367e+05   5.09005881e+04   3.86082429e+05   1.04779093e+06\n",
      "   1.23415097e+06   5.42715751e+05   1.09438567e+04   1.05487030e+05\n",
      "   3.89211987e+05   6.97519868e+05   6.19575101e+05   2.22671836e+05\n",
      "  -1.54737018e-01   2.78633614e-01   9.89233338e-02] \n",
      "\n",
      "\n",
      " Identified equation for z : \n",
      "\n",
      "[  8.46491816e-02   2.36412536e+00   1.56109071e+00  -4.65599791e+00\n",
      "  -1.33264391e+01  -3.66270422e+01  -6.49810138e+01  -2.39738134e+01\n",
      "  -8.97729731e+01  -7.38363274e+01  -9.42708400e+01  -2.14058861e+02\n",
      "  -4.42236357e+01  -1.46194930e+02   1.86245488e+02   7.11144302e+02\n",
      "  -2.36053487e+01   3.09378267e+02   1.16824979e+03   1.12063265e+03\n",
      "   3.41763872e+02   1.50412552e+03   2.62960254e+03   2.44417063e+03\n",
      "   8.79507722e+03   7.65196535e+03   1.80726447e+03   9.97764046e+03\n",
      "   1.78086256e+04   1.03579035e+04   5.26747467e+02   3.92991555e+03\n",
      "   1.07358135e+04   1.27894783e+04   5.57821778e+03  -3.01301464e+03\n",
      "  -1.99574462e+04  -3.65466833e+04  -4.95220182e+04  -1.80953587e+05\n",
      "  -1.59588894e+05  -5.86658799e+04  -3.23484626e+05  -5.73392153e+05\n",
      "  -3.31271888e+05  -3.36921137e+04  -2.50081334e+05  -6.71396759e+05\n",
      "  -7.83880213e+05  -3.39801315e+05  -7.60235726e+03  -7.13211078e+04\n",
      "  -2.58709272e+05  -4.59644405e+05  -4.04513107e+05  -1.42969253e+05\n",
      "  -7.63976066e-03  -1.58075903e-01  -1.19257029e-01]\n"
     ]
    }
   ],
   "source": [
    "# --> Print on-screen the coefficients of the OLS estimator.\n",
    "\n",
    "print \"Identified equation for x : \\n\"\n",
    "print ols.coef_[:n_lib], \"\\n\"\n",
    "print \"\\n Identified equation for y : \\n\"\n",
    "print ols.coef_[n_lib:2*n_lib], \"\\n\"\n",
    "print \"\\n Identified equation for z : \\n\"\n",
    "print ols.coef_[2*n_lib:3*n_lib]"
   ]
  },
  {
   "cell_type": "markdown",
   "metadata": {},
   "source": [
    "As shown, all of the coefficients of the solution $\\xi_{OLS}$ are effectively non-zero. From a mathematical point of view, this denseness of $\\xi_{OLS}$ indicates that the ordinary least-squares estimator uses absolutely all of the atoms included in our input dictionary $\\Theta({\\bf x})$ to approximate the true function $\\mathcal{f}({\\bf x})$. Given the simplicity of the Lorenz system, this behavior is clearly related to *overfitting*, a well-known problem of regression. Note moreover that, when simulating the identified model, the inclusion of all the extra terms may slow down the computation or even cause numerical instabilities.\n",
    "\n",
    "\\subsection{$\\ell_1$-penalized least squares}\n",
    "\n",
    "A good heuristic to obtain a sparse solution vector $\\xi$ is to replace the nuclear norm $\\| \\xi \\|_0$ by its 1-norm $\\| \\xi \\|_1$ in the original problem. The resulting minimization problem reads\n",
    "\n",
    "\\begin{equation}\n",
    "        \\min_{\\xi} \\| \\Theta({\\bf x})\\xi - \\dot{\\bf x} \\|_2^2 \\\\\n",
    "        \\text{s. t. }  \\| \\xi \\|_1 \\le \\alpha\n",
    "\\end{equation}\n",
    "\n",
    "where $\\alpha$ is typically chosen as a fraction of $\\| \\xi_{OLS} \\|_1$. This problem is a convex minimization problem which can easily be solved using standard convex optimization libraries. Note however that, although the resulting solution vector $\\xi_{\\ell_1}$ is sparse, it is usually not the optimal solution. Hence, once the sparsity pattern of $\\xi$ has been determined, one then runs an additional ordinary least-squares regression retaining only the atoms of $\\Theta({\\bf x})$ corresponding to non-zero entries of $\\xi_{\\ell_1}$."
   ]
  },
  {
   "cell_type": "code",
   "execution_count": 27,
   "metadata": {
    "ExecuteTime": {
     "end_time": "2017-09-07T09:44:10.508076Z",
     "start_time": "2017-09-07T09:44:10.326253Z"
    },
    "collapsed": false
   },
   "outputs": [
    {
     "name": "stdout",
     "output_type": "stream",
     "text": [
      "     pcost       dcost       gap    pres   dres\n",
      " 0: -3.0819e-01 -3.8727e+02  4e+02  0e+00  2e+01\n",
      " 1: -3.4018e-01 -1.7752e+01  2e+01  4e-15  8e-01\n",
      " 2: -3.5687e-01 -1.9132e+00  2e+00  8e-16  7e-02\n",
      " 3: -4.1149e-01 -1.4578e+00  1e+00  5e-16  2e-02\n",
      " 4: -4.2384e-01 -6.3946e-01  2e-01  1e-16  3e-03\n",
      " 5: -4.3790e-01 -5.3306e-01  1e-01  2e-16  2e-04\n",
      " 6: -4.4225e-01 -4.7447e-01  3e-02  1e-16  5e-05\n",
      " 7: -4.4582e-01 -4.5460e-01  9e-03  1e-16  3e-06\n",
      " 8: -4.4740e-01 -4.4931e-01  2e-03  4e-16  2e-07\n",
      " 9: -4.4786e-01 -4.4822e-01  4e-04  1e-16  1e-08\n",
      "10: -4.4799e-01 -4.4806e-01  7e-05  4e-16  2e-09\n",
      "11: -4.4802e-01 -4.4803e-01  7e-06  4e-17  1e-10\n",
      "12: -4.4803e-01 -4.4803e-01  4e-07  1e-16  3e-12\n",
      "Optimal solution found.\n",
      "Total number of possible terms : 177\n",
      "Number of non-zero coefficients : 164\n",
      "Wall time: 93 ms\n"
     ]
    },
    {
     "name": "stderr",
     "output_type": "stream",
     "text": [
      "C:\\Users\\owner\\Anaconda3\\envs\\python2\\lib\\site-packages\\cvxopt\\coneprog.py:4345: FutureWarning: elementwise comparison failed; returning scalar instead, but in the future will perform elementwise comparison\n",
      "  if solver == 'mosek':\n"
     ]
    }
   ],
   "source": [
    "%%time\n",
    "# --> l1-penalized estimator.\n",
    "from sparse_identification import sindy\n",
    "l1_penalized = sindy(l1=0.1, solver='lasso') # originally l1=0.01\n",
    "\n",
    "# --> Fit the OLS model.\n",
    "l1_penalized.fit(A, b)\n",
    "print 'Total number of possible terms :', l1_penalized.coef_.size\n",
    "print 'Number of non-zero coefficients :', np.count_nonzero(l1_penalized.coef_)"
   ]
  },
  {
   "cell_type": "code",
   "execution_count": 28,
   "metadata": {
    "ExecuteTime": {
     "end_time": "2017-09-07T07:23:32.277092Z",
     "start_time": "2017-09-07T07:23:32.255802Z"
    },
    "code_folding": [
     0
    ],
    "collapsed": false
   },
   "outputs": [
    {
     "name": "stdout",
     "output_type": "stream",
     "text": [
      "Identified equation for x : \n",
      "\n",
      "[-0.00805829  0.54279814 -0.14398263  0.26440175  0.49135513 -0.13505758\n",
      " -0.65612193 -0.16696857 -0.67516651 -0.59852581 -3.84941046 -1.95127431\n",
      "  1.99118306 -2.46690828  2.76063774 -2.59071878  2.04005905 -2.35203225\n",
      "  1.54357652 -0.32985138 -3.02057244 -1.14170393  1.47956099 -0.11486973\n",
      "  1.16731659 -1.45019851  0.15729092  0.16810185 -1.06536285  1.5689166\n",
      " -1.9331606  -0.76460896  1.15384789 -0.26654539 -0.75603509  3.1483532\n",
      "  0.52890282 -2.22000505 -0.29605121  0.40166093  0.63143921 -1.29064774\n",
      "  0.47395673 -0.40289137  0.          0.63561166  0.66036549 -0.69616227\n",
      "  0.60125729 -0.43207015 -0.44830956 -0.64137707  0.25706534  0.\n",
      " -0.31681233  0.40606754  0.11055698 -0.05535611  0.17704289] \n",
      "\n",
      "\n",
      " Identified equation for y : \n",
      "\n",
      "[-0.00607596  0.11883245  0.85703443  0.61347419 -0.34801135  0.45457169\n",
      "  0.77646856  0.73220356  0.98893685  0.63236869  0.3557557  -1.09556586\n",
      " -0.9584961   1.73216618  1.18858679  1.59948684 -4.18400879  0.43395502\n",
      " -1.05887349 -1.7525774   1.90469493  0.30280627  0.46157452  2.16754287\n",
      " -1.33636654  0.29521191 -0.21458287 -0.34616043  0.24100921  0.\n",
      " -1.28767508  0.          0.61530457 -0.41723819  0.         -0.90979031\n",
      "  1.44076457 -0.73384646  0.19908977 -0.43199272  0.84833073  0.          0.\n",
      " -0.2600356  -0.21251275 -2.74547681  1.30620241 -0.52556872  0.46858672\n",
      " -0.17203791  0.65698258  0.27793754 -0.27602187  0.          0.\n",
      " -0.19291336 -0.28873443  0.08551634  0.06411487] \n",
      "\n",
      "\n",
      " Identified equation for z : \n",
      "\n",
      "[ 0.         -0.31286606 -0.45156052 -0.48006671  0.03362214 -0.13361961\n",
      " -0.13217954 -0.2084752  -0.06793119  0.11329158  1.68076998  1.93561686\n",
      "  0.          0.21747686 -1.57543167 -0.51714494  1.49034134  0.46591022\n",
      "  0.          1.06986015  0.27076219  0.21476107 -0.40289121 -1.78600432\n",
      "  0.          0.62696623  0.2433966   0.20395733  0.39624611 -1.03430489\n",
      "  1.41422367  0.59542083 -1.14108503  0.66522339  0.18620951 -0.75049081\n",
      " -0.95792409  1.46303882 -0.30143704  0.1626827  -0.91196887  0.84678178\n",
      " -0.20614216  0.25217103  0.23103517  1.2513292  -1.15657982  0.65298876\n",
      " -0.53325295  0.24937477 -0.41556182  0.17201986  0.13236537 -0.13913784\n",
      "  0.22571421 -0.23961722  0.11052927  0.03104336 -0.12415934]\n"
     ]
    }
   ],
   "source": [
    "# --> Print on-screen the coefficients of the l1-penalized estimator.\n",
    "\n",
    "print \"Identified equation for x : \\n\"\n",
    "print l1_penalized.coef_[:n_lib], \"\\n\"\n",
    "print \"\\n Identified equation for y : \\n\"\n",
    "print l1_penalized.coef_[n_lib:2*n_lib], \"\\n\"\n",
    "print \"\\n Identified equation for z : \\n\"\n",
    "print l1_penalized.coef_[2*n_lib:3*n_lib]"
   ]
  },
  {
   "cell_type": "markdown",
   "metadata": {},
   "source": [
    "The $\\ell_1$-penalized estimator retains only 7 atoms out of the 168 available ones in $\\Theta({\\bf x})$. As will be shown, discarding these 161 extra atoms hardly influences the accuracy of the fit. Moreover, the coefficients identified are very close to the actual ones used in the definition of system \\eqref{eq: Lorenz system}."
   ]
  },
  {
   "cell_type": "markdown",
   "metadata": {},
   "source": [
    "\\subsection{Sequentially hard-thresholded ordinary least squares}\n",
    "\n",
    "The last algorithm considered is the one presented in \\cite{pnas:brunton:2016}. It is an iteratively hard-thresholded least-squares approach. At each iteration, only the atoms of $\\Theta({\\bf x})$ for which\n",
    "\n",
    "$$\n",
    "    \\vert \\xi_i \\vert > \\ell_1 \\displaystyle \\frac{1}{n}\\sum_{j=1}^n \\vert \\xi_j \\vert\n",
    "$$\n",
    "\n",
    "are retained. Note that only the non-zero entries of $\\xi$ are considered when evaluating the mean absolute value."
   ]
  },
  {
   "cell_type": "code",
   "execution_count": 29,
   "metadata": {
    "ExecuteTime": {
     "end_time": "2017-09-07T09:44:37.681819Z",
     "start_time": "2017-09-07T09:44:37.571418Z"
    },
    "collapsed": false
   },
   "outputs": [
    {
     "name": "stdout",
     "output_type": "stream",
     "text": [
      "Total number of possible terms : 177\n",
      "Number of non-zero coefficients : 42\n",
      "Wall time: 15 ms\n"
     ]
    }
   ],
   "source": [
    "%%time\n",
    "# --> Sequentially hard-thresholded estimator.\n",
    "from sparse_identification import sindy\n",
    "shols = sindy(l1=0.3, solver='lstsq')\n",
    "\n",
    "# --> Fit the OLS model.\n",
    "shols.fit(A, b)\n",
    "print 'Total number of possible terms :', shols.coef_.size\n",
    "print 'Number of non-zero coefficients :', np.count_nonzero(shols.coef_)"
   ]
  },
  {
   "cell_type": "code",
   "execution_count": 30,
   "metadata": {
    "ExecuteTime": {
     "end_time": "2017-09-07T07:23:33.900402Z",
     "start_time": "2017-09-07T07:23:33.890365Z"
    },
    "code_folding": [
     0
    ],
    "collapsed": false
   },
   "outputs": [
    {
     "name": "stdout",
     "output_type": "stream",
     "text": [
      "Identified equation for x : \n",
      "\n",
      "[ 0.          0.          0.          0.          0.          0.          0.\n",
      "  0.         -0.61106937  0.          0.         -5.13927975  0.\n",
      " -2.34072898  1.30359146  7.63302514  2.4622256   0.          0.\n",
      "  2.90285971 -1.40599115 -2.26506925  0.          0.         -1.99261661\n",
      "  0.          0.          0.         -1.72882449  2.55226267 -2.40058696\n",
      "  0.          1.16527993  0.         -3.51726626 -4.91732324  3.69566895\n",
      "  0.         -2.53005454  0.          0.          0.          0.          0.\n",
      "  0.         -2.78552803  1.96783188  0.          0.          0.          0.\n",
      "  0.          0.          0.          0.          0.          0.          0.\n",
      "  0.        ] \n",
      "\n",
      "\n",
      " Identified equation for y : \n",
      "\n",
      "[ 0.          0.          0.          0.71043716  0.          0.          0.\n",
      "  0.          0.          0.          2.56394949  0.         -5.34272275\n",
      " -2.33584352  0.          0.          0.         -3.05412601  6.32947978\n",
      "  1.69879148  0.          0.82058773  0.          0.          1.84792426\n",
      "  0.          0.          0.          0.          0.          0.          0.\n",
      " -2.4558521   0.          0.         -7.05715601  3.53150115  0.          0.\n",
      "  0.          0.          0.          0.          0.          0.          0.\n",
      "  0.          0.          0.          0.         -3.68043344  0.          0.\n",
      "  0.          0.          0.          0.          0.          0.        ] \n",
      "\n",
      "\n",
      " Identified equation for z : \n",
      "\n",
      "[ 0.          0.          0.          0.          0.          0.          0.\n",
      "  0.          0.          0.         -1.05944457 -1.28717393  0.          0.\n",
      " -0.40042405  0.          0.          0.          0.          0.          0.\n",
      "  0.         -0.07135752  0.          0.          0.          0.          0.\n",
      "  0.          0.          0.          0.          0.          0.          0.\n",
      "  2.09881989  0.          0.         -1.95286453  0.          0.\n",
      "  1.94872449  0.          0.          0.          2.10019908 -1.43335808\n",
      "  0.          0.          0.          0.          0.          0.          0.\n",
      "  0.          0.          0.          0.          0.        ]\n"
     ]
    }
   ],
   "source": [
    "# --> Print on-screen the coefficients of the SH-OLS estimator.\n",
    "\n",
    "print \"Identified equation for x : \\n\"\n",
    "print shols.coef_[:n_lib], \"\\n\"\n",
    "print \"\\n Identified equation for y : \\n\"\n",
    "print shols.coef_[n_lib:2*n_lib], \"\\n\"\n",
    "print \"\\n Identified equation for z : \\n\"\n",
    "print shols.coef_[2*n_lib:3*n_lib]"
   ]
  },
  {
   "cell_type": "markdown",
   "metadata": {},
   "source": [
    "The sparsity patterns of the solution vector $\\xi$ obtained using the $\\ell_1$-penalized least-squares estimator or the present sequentially hard-thresholded one are identical. Not however that may not always be true, although they usually marginally differ from one another.\n",
    "\n",
    "\\subsection{Comparison of the predicted dynamics}"
   ]
  },
  {
   "cell_type": "code",
   "execution_count": 21,
   "metadata": {
    "collapsed": false
   },
   "outputs": [
    {
     "data": {
      "text/plain": [
       "177"
      ]
     },
     "execution_count": 21,
     "metadata": {},
     "output_type": "execute_result"
    }
   ],
   "source": [
    "# from Lorenz import Identified_Model # function actually ignores t, because system is autonomous\n",
    "# inputs: y,t,library,ols. output: dy\n",
    "# maybe i could have Identified_Model take in inputs (bit flips)... but how do they affect dy? let sindy figure it out \n",
    "# x_thing = Identified_Model(y0,4,library,ols) \n",
    "# x_thing\n",
    "# ols.coef_\n",
    "# np.hstack([library.transform(np.zeros((1,3))),inputs[2:3,:]])"
   ]
  },
  {
   "cell_type": "code",
   "execution_count": 14,
   "metadata": {
    "collapsed": false
   },
   "outputs": [],
   "source": [
    "# def map_out(model,y0,t,library,ols,inputs):\n",
    "#     ys = np.zeros((len(t),3))\n",
    "#     ys[0] = y0\n",
    "#     for i in range(len(t)-1):\n",
    "#         dy = model(ys[i],t[i],library,ols,inputs[i])\n",
    "#         ys[i+1] = ys[i]+dy\n",
    "#         print(dy,ys[i+1])\n",
    "        \n",
    "# x_ols = map_out(Identified_Model,y0,t,library,ols,inputs)\n",
    "# x_shols = map_out(Identified_Model,y0,t,library,shols,inputs)\n",
    "# # doesn't work (numerical instability)"
   ]
  },
  {
   "cell_type": "code",
   "execution_count": 34,
   "metadata": {
    "collapsed": false,
    "scrolled": true
   },
   "outputs": [
    {
     "data": {
      "text/plain": [
       "array([-0.00424071, -0.01033589,  0.00016952])"
      ]
     },
     "execution_count": 34,
     "metadata": {},
     "output_type": "execute_result"
    }
   ],
   "source": [
    "Identified_Model(y0,t[0],library,shols)"
   ]
  },
  {
   "cell_type": "code",
   "execution_count": 31,
   "metadata": {
    "ExecuteTime": {
     "end_time": "2017-09-07T09:56:29.955109Z",
     "start_time": "2017-09-07T09:56:24.411073Z"
    },
    "code_folding": [
     0
    ],
    "collapsed": false,
    "scrolled": true
   },
   "outputs": [
    {
     "name": "stderr",
     "output_type": "stream",
     "text": [
      "C:\\Users\\owner\\Anaconda3\\envs\\python2\\lib\\site-packages\\scipy\\integrate\\odepack.py:218: ODEintWarning: Excess work done on this call (perhaps wrong Dfun type). Run with full_output = 1 to get quantitative information.\n",
      "  warnings.warn(warning_msg, ODEintWarning)\n"
     ]
    },
    {
     "ename": "IndexError",
     "evalue": "index 1304 is out of bounds for axis 0 with size 320",
     "output_type": "error",
     "traceback": [
      "\u001b[0;31m---------------------------------------------------------------------------\u001b[0m",
      "\u001b[0;31mIndexError\u001b[0m                                Traceback (most recent call last)",
      "\u001b[0;32m<ipython-input-31-fbc452bdec98>\u001b[0m in \u001b[0;36m<module>\u001b[0;34m()\u001b[0m\n\u001b[1;32m      4\u001b[0m \u001b[1;31m# function that computes the derivative of output given y, t0, args are additional arguments to Identified_Model\u001b[0m\u001b[1;33m\u001b[0m\u001b[1;33m\u001b[0m\u001b[0m\n\u001b[1;32m      5\u001b[0m \u001b[0mx_ols\u001b[0m \u001b[1;33m=\u001b[0m \u001b[0modeint\u001b[0m\u001b[1;33m(\u001b[0m\u001b[0mIdentified_Model\u001b[0m\u001b[1;33m,\u001b[0m \u001b[0my0\u001b[0m\u001b[1;33m,\u001b[0m \u001b[0mt\u001b[0m\u001b[1;33m,\u001b[0m \u001b[0margs\u001b[0m\u001b[1;33m=\u001b[0m\u001b[1;33m(\u001b[0m\u001b[0mlibrary\u001b[0m\u001b[1;33m,\u001b[0m \u001b[0mols\u001b[0m\u001b[1;33m)\u001b[0m\u001b[1;33m)\u001b[0m\u001b[1;33m\u001b[0m\u001b[0m\n\u001b[0;32m----> 6\u001b[0;31m \u001b[0mx_shols\u001b[0m \u001b[1;33m=\u001b[0m \u001b[0modeint\u001b[0m\u001b[1;33m(\u001b[0m\u001b[0mIdentified_Model\u001b[0m\u001b[1;33m,\u001b[0m \u001b[0my0\u001b[0m\u001b[1;33m,\u001b[0m \u001b[0mt\u001b[0m\u001b[1;33m,\u001b[0m \u001b[0margs\u001b[0m\u001b[1;33m=\u001b[0m\u001b[1;33m(\u001b[0m\u001b[0mlibrary\u001b[0m\u001b[1;33m,\u001b[0m \u001b[0mshols\u001b[0m\u001b[1;33m)\u001b[0m\u001b[1;33m)\u001b[0m\u001b[1;33m\u001b[0m\u001b[0m\n\u001b[0m\u001b[1;32m      7\u001b[0m \u001b[1;33m\u001b[0m\u001b[0m\n\u001b[1;32m      8\u001b[0m \u001b[1;33m\u001b[0m\u001b[0m\n",
      "\u001b[0;32mC:\\Users\\owner\\Anaconda3\\envs\\python2\\lib\\site-packages\\scipy\\integrate\\odepack.pyc\u001b[0m in \u001b[0;36modeint\u001b[0;34m(func, y0, t, args, Dfun, col_deriv, full_output, ml, mu, rtol, atol, tcrit, h0, hmax, hmin, ixpr, mxstep, mxhnil, mxordn, mxords, printmessg)\u001b[0m\n\u001b[1;32m    213\u001b[0m     output = _odepack.odeint(func, y0, t, args, Dfun, col_deriv, ml, mu,\n\u001b[1;32m    214\u001b[0m                              \u001b[0mfull_output\u001b[0m\u001b[1;33m,\u001b[0m \u001b[0mrtol\u001b[0m\u001b[1;33m,\u001b[0m \u001b[0matol\u001b[0m\u001b[1;33m,\u001b[0m \u001b[0mtcrit\u001b[0m\u001b[1;33m,\u001b[0m \u001b[0mh0\u001b[0m\u001b[1;33m,\u001b[0m \u001b[0mhmax\u001b[0m\u001b[1;33m,\u001b[0m \u001b[0mhmin\u001b[0m\u001b[1;33m,\u001b[0m\u001b[1;33m\u001b[0m\u001b[0m\n\u001b[0;32m--> 215\u001b[0;31m                              ixpr, mxstep, mxhnil, mxordn, mxords)\n\u001b[0m\u001b[1;32m    216\u001b[0m     \u001b[1;32mif\u001b[0m \u001b[0moutput\u001b[0m\u001b[1;33m[\u001b[0m\u001b[1;33m-\u001b[0m\u001b[1;36m1\u001b[0m\u001b[1;33m]\u001b[0m \u001b[1;33m<\u001b[0m \u001b[1;36m0\u001b[0m\u001b[1;33m:\u001b[0m\u001b[1;33m\u001b[0m\u001b[0m\n\u001b[1;32m    217\u001b[0m         \u001b[0mwarning_msg\u001b[0m \u001b[1;33m=\u001b[0m \u001b[0m_msgs\u001b[0m\u001b[1;33m[\u001b[0m\u001b[0moutput\u001b[0m\u001b[1;33m[\u001b[0m\u001b[1;33m-\u001b[0m\u001b[1;36m1\u001b[0m\u001b[1;33m]\u001b[0m\u001b[1;33m]\u001b[0m \u001b[1;33m+\u001b[0m \u001b[1;34m\" Run with full_output = 1 to get quantitative information.\"\u001b[0m\u001b[1;33m\u001b[0m\u001b[0m\n",
      "\u001b[0;32mC:\\Users\\owner\\Desktop\\Spring18\\am108-final-project\\SINDy\\examples\\Lorenz\\Lorenz.pyc\u001b[0m in \u001b[0;36mIdentified_Model\u001b[0;34m(y, t, library, estimator)\u001b[0m\n\u001b[1;32m    162\u001b[0m \u001b[1;33m\u001b[0m\u001b[0m\n\u001b[1;32m    163\u001b[0m     \u001b[0mlib\u001b[0m \u001b[1;33m=\u001b[0m \u001b[0mlibrary\u001b[0m\u001b[1;33m.\u001b[0m\u001b[0mfit_transform\u001b[0m\u001b[1;33m(\u001b[0m\u001b[0my\u001b[0m\u001b[1;33m.\u001b[0m\u001b[0mreshape\u001b[0m\u001b[1;33m(\u001b[0m\u001b[1;36m1\u001b[0m\u001b[1;33m,\u001b[0m\u001b[1;33m-\u001b[0m\u001b[1;36m1\u001b[0m\u001b[1;33m)\u001b[0m\u001b[1;33m)\u001b[0m \u001b[1;31m# 1,56\u001b[0m\u001b[1;33m\u001b[0m\u001b[0m\n\u001b[0;32m--> 164\u001b[0;31m     \u001b[0minp\u001b[0m \u001b[1;33m=\u001b[0m \u001b[0minputs\u001b[0m\u001b[1;33m[\u001b[0m\u001b[0mint\u001b[0m\u001b[1;33m(\u001b[0m\u001b[0mt\u001b[0m\u001b[1;33m)\u001b[0m\u001b[1;33m]\u001b[0m\u001b[1;33m.\u001b[0m\u001b[0mreshape\u001b[0m\u001b[1;33m(\u001b[0m\u001b[1;36m1\u001b[0m\u001b[1;33m,\u001b[0m\u001b[1;33m-\u001b[0m\u001b[1;36m1\u001b[0m\u001b[1;33m)\u001b[0m\u001b[1;33m\u001b[0m\u001b[0m\n\u001b[0m\u001b[1;32m    165\u001b[0m     \u001b[0mlib\u001b[0m \u001b[1;33m=\u001b[0m \u001b[0mnp\u001b[0m\u001b[1;33m.\u001b[0m\u001b[0mhstack\u001b[0m\u001b[1;33m(\u001b[0m\u001b[1;33m[\u001b[0m\u001b[0mlib\u001b[0m\u001b[1;33m,\u001b[0m\u001b[0minp\u001b[0m\u001b[1;33m]\u001b[0m\u001b[1;33m)\u001b[0m \u001b[1;31m# 1,59. this assumes inputs[t] corresponds to time t (not true for small time increments)\u001b[0m\u001b[1;33m\u001b[0m\u001b[0m\n\u001b[1;32m    166\u001b[0m     \u001b[0mTheta\u001b[0m \u001b[1;33m=\u001b[0m \u001b[0mblock_diag\u001b[0m\u001b[1;33m(\u001b[0m\u001b[0mlib\u001b[0m\u001b[1;33m,\u001b[0m \u001b[0mlib\u001b[0m\u001b[1;33m,\u001b[0m \u001b[0mlib\u001b[0m\u001b[1;33m)\u001b[0m\u001b[1;33m\u001b[0m\u001b[0m\n",
      "\u001b[0;31mIndexError\u001b[0m: index 1304 is out of bounds for axis 0 with size 320"
     ]
    }
   ],
   "source": [
    "# --> Run the different identified models.\n",
    "from scipy.integrate import odeint\n",
    "from Lorenz import Identified_Model\n",
    "# function that computes the derivative of output given y, t0, args are additional arguments to Identified_Model\n",
    "x_ols = odeint(Identified_Model, y0, t, args=(library, ols))\n",
    "x_shols = odeint(Identified_Model, y0, t, args=(library, shols))\n",
    "\n",
    "\n",
    "# --> Plot the results.\n",
    "fig = plt.figure(figsize=(1.5*w, w/2))\n",
    "gs = GridSpec(3, 6)\n",
    "\n",
    "ax0 = fig.add_subplot(gs[0, :3])\n",
    "ax0.plot(t, x[:, 0])\n",
    "ax0.plot(t, x_ols[:, 0])\n",
    "ax0.plot(t, x_shols[:, 0])\n",
    "ax0.set_ylabel('x')\n",
    "ax0.set_xticks([])\n",
    "# ax0.set_xlim(0, 20)\n",
    "\n",
    "ax1 = fig.add_subplot(gs[1, :3])\n",
    "ax1.plot(t, x[:, 1])\n",
    "ax1.plot(t, x_ols[:, 1])\n",
    "ax1.plot(t, x_shols[:, 1])\n",
    "ax1.set_ylabel('y')\n",
    "ax1.set_xticks([])\n",
    "# ax1.set_xlim(0, 20)\n",
    "\n",
    "ax2 = fig.add_subplot(gs[2, :3])\n",
    "ax2.plot(t, x[:, 2])\n",
    "ax2.plot(t, x_ols[:, 2])\n",
    "ax2.plot(t, x_shols[:, 2])\n",
    "ax2.set_ylabel('z')\n",
    "ax2.set_xlabel('t')\n",
    "# ax2.set_xlim(0, 20)\n",
    "\n",
    "ax3 = fig.add_subplot(gs[:, 3:], projection='3d')\n",
    "ax3.plot(x[:, 0], x[:, 1], x[:, 2])\n",
    "ax3.plot(x_ols[:, 0], x_ols[:, 1], x_ols[:, 2])\n",
    "ax3.plot(x_shols[:, 0], x_shols[:, 1], x_shols[:, 2])\n",
    "ax3.set_xlabel('x', labelpad=10)\n",
    "ax3.set_ylabel('y')\n",
    "ax3.set_zlabel('z')\n",
    "ax3.locator_params(axis='x', nbins=5)\n",
    "\n",
    "# figcaption('(Left) Time-traces of the different state variables and (right) corresponding trajectories in the three-dimensional phase space. \\\n",
    "#             In all figures, blue lines denote the ground truth evolution, while green and red are the predictions of the OLS and SH-OLS models.')"
   ]
  },
  {
   "cell_type": "markdown",
   "metadata": {},
   "source": [
    "# References\n",
    "\n",
    "[<a id=\"cit-book:sparrow:2012\" href=\"#call-book:sparrow:2012\">1</a>] C. Sparrow, ``_The Lorenz equations: bifurcations, chaos, and strange attractors_'',  2012.\n",
    "\n",
    "[<a id=\"cit-pnas:brunton:2016\" href=\"#call-pnas:brunton:2016\">2</a>] Brunton Steven L, Proctor Joshua L and Kutz J Nathan, ``_Discovering governing equations from data by sparse identification of nonlinear dynamical systems_'', Proceedings of the National Academy of Sciences, vol. 113, number 15, pp. 3932--3937,  2016.\n",
    "\n"
   ]
  },
  {
   "cell_type": "code",
   "execution_count": null,
   "metadata": {
    "collapsed": false
   },
   "outputs": [],
   "source": [
    "libz = library.fit_transform(y0.reshape(1,-1)) # 1,56\n",
    "inpz = np.zeros((1,3))\n",
    "libz = np.hstack([libz,inpz]) # 1,59. this assumes inputs[t] corresponds to time t (not true for small time increments)\n",
    "print(libz.shape)"
   ]
  },
  {
   "cell_type": "markdown",
   "metadata": {},
   "source": [
    "What a struggle! I'm still tryna figure out this whole SINDy with inputs business. Ideas:\n",
    "-write a new library function for inputs. i'd need to do this for trigonometric features.\n",
    "-just bite the bullet and make inputs \"variables\". this will explode the number of parameters, but whatever. the problem is, this causes the matrix A to not have sufficient rank or something.\n",
    "-why in odeint are the times not going to 320? there seems to be numerical instability around time 23 or something\n",
    "-why does shols time integration start from 1304 something?\n",
    "-did i choose the right initial condition? can i shrink dt?\n",
    "-maybe try a sparser or thicker system?\n",
    "\n",
    "Why are we doing SINDy? We're taking a big NLDS (1000), making it a small NLDS (3\\*56 but with sparsity)."
   ]
  },
  {
   "cell_type": "code",
   "execution_count": null,
   "metadata": {
    "collapsed": true
   },
   "outputs": [],
   "source": []
  }
 ],
 "metadata": {
  "anaconda-cloud": {},
  "author": "A (very) quick introduction to SINDy",
  "kernelspec": {
   "display_name": "Python [python2]",
   "language": "python",
   "name": "Python [python2]"
  },
  "language_info": {
   "codemirror_mode": {
    "name": "ipython",
    "version": 2
   },
   "file_extension": ".py",
   "mimetype": "text/x-python",
   "name": "python",
   "nbconvert_exporter": "python",
   "pygments_lexer": "ipython2",
   "version": "2.7.12"
  },
  "latex_envs": {
   "LaTeX_envs_menu_present": true,
   "autocomplete": true,
   "bibliofile": "biblio.bib",
   "cite_by": "number",
   "current_citInitial": 1,
   "eqLabelWithNumbers": true,
   "eqNumInitial": 1,
   "hotkeys": {
    "equation": "Ctrl-E",
    "itemize": "Ctrl-I"
   },
   "labels_anchors": false,
   "latex_user_defs": false,
   "report_style_numbering": true,
   "user_envs_cfg": true
  },
  "toc": {
   "colors": {
    "hover_highlight": "#DAA520",
    "navigate_num": "#000000",
    "navigate_text": "#333333",
    "running_highlight": "#FF0000",
    "selected_highlight": "#FFD700",
    "sidebar_border": "#EEEEEE",
    "wrapper_background": "#FFFFFF"
   },
   "moveMenuLeft": true,
   "nav_menu": {
    "height": "99px",
    "width": "252px"
   },
   "navigate_menu": true,
   "number_sections": true,
   "sideBar": true,
   "threshold": 4,
   "toc_cell": false,
   "toc_section_display": "block",
   "toc_window_display": false,
   "widenNotebook": false
  },
  "varInspector": {
   "cols": {
    "lenName": 16,
    "lenType": 16,
    "lenVar": 40
   },
   "kernels_config": {
    "python": {
     "delete_cmd_postfix": "",
     "delete_cmd_prefix": "del ",
     "library": "var_list.py",
     "varRefreshCmd": "print(var_dic_list())"
    },
    "r": {
     "delete_cmd_postfix": ") ",
     "delete_cmd_prefix": "rm(",
     "library": "var_list.r",
     "varRefreshCmd": "cat(var_dic_list()) "
    }
   },
   "types_to_exclude": [
    "module",
    "function",
    "builtin_function_or_method",
    "instance",
    "_Feature"
   ],
   "window_display": false
  }
 },
 "nbformat": 4,
 "nbformat_minor": 2
}
