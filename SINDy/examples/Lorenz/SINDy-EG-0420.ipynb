{
 "cells": [
  {
   "cell_type": "code",
   "execution_count": 1,
   "metadata": {
    "ExecuteTime": {
     "end_time": "2017-09-07T07:23:27.977553Z",
     "start_time": "2017-09-07T07:23:27.236848Z"
    },
    "code_folding": [
     0
    ],
    "collapsed": false
   },
   "outputs": [
    {
     "name": "stdout",
     "output_type": "stream",
     "text": [
      "Using matplotlib backend: Qt5Agg\n",
      "Populating the interactive namespace from numpy and matplotlib\n"
     ]
    },
    {
     "data": {
      "text/html": [
       "\n",
       "<style>\n",
       ".output_png {\n",
       "    display: table-cell\n",
       "    text-align: right;\n",
       "    vertical-align: middle;\n",
       "}\n",
       "</style>\n"
      ],
      "text/plain": [
       "<IPython.core.display.HTML object>"
      ]
     },
     "execution_count": 1,
     "metadata": {},
     "output_type": "execute_result"
    }
   ],
   "source": [
    "# import torch\n",
    "# from torch.autograd import Variable\n",
    "from sparse_identification.utils import derivative \n",
    "import pandas as pd\n",
    "\n",
    "#--> Standard python library.\n",
    "%pylab\n",
    "\n",
    "#--> Matplotlib-related.\n",
    "%matplotlib inline\n",
    "from matplotlib.gridspec import GridSpec\n",
    "import matplotlib.patches as patches\n",
    "from mpl_toolkits.mplot3d import Axes3D\n",
    "\n",
    "# params = {'text.usetex' : True,\n",
    "#           'font.size' : 8*2,\n",
    "#           'font.family' : 'lmodern',\n",
    "#           'text.latex.unicode' : True}\n",
    "# plt.rcParams['text.latex.preamble']=[r'\\usepackage{lmodern}', r'\\usepackage{bm}']\n",
    "# plt.rcParams.update(params)\n",
    "plt.style.use('seaborn-muted')\n",
    "w = 10 # plot figure width\n",
    "from IPython.core.display import HTML\n",
    "HTML(\"\"\"\n",
    "<style>\n",
    ".output_png {\n",
    "    display: table-cell\n",
    "    text-align: right;\n",
    "    vertical-align: middle;\n",
    "}\n",
    "</style>\n",
    "\"\"\")\n",
    "# from latex_envs.latex_envs import figcaption"
   ]
  },
  {
   "cell_type": "markdown",
   "metadata": {},
   "source": [
    "\\title{A (very) quick introduction to SINDy}\n",
    "\\author{Kevin, Joel, Elbert$^1$}\n",
    "\\maketitle\n",
    "$^1$Harvard University\n",
    "<center>**Abstract**</center>\n",
    "After a quick presentation of the training and testing datasets used, the system identification capabilities of SINDy are illustrated using time-series of the Lorenz system. Four different algorithms for system identification have been implemented so far and will be compared:\n",
    "- Ordinary Least-Squares\n",
    "- Sequentially hard-thresholded ordinary least-squares\n",
    "- $\\ell_1$-penalized least-squares.\n",
    "\n",
    "Wait that's only 3 though\\\\\n",
    "\n",
    "\\begin{equation}\n",
    "    \\begin{aligned}\n",
    "        & \\dot{x} = \\sigma (y-x) \\\\\n",
    "        & \\dot{y} = x(\\rho -z) - y \\\\\n",
    "        & \\dot{z} = xy - \\beta z\n",
    "    \\end{aligned}\n",
    "    \\label{eq: Lorenz system}\n",
    "\\end{equation}\n",
    "Lorenz example $\\sigma = 10$, $\\beta = \\displaystyle \\frac{8}{3}$ and $\\rho=28$."
   ]
  },
  {
   "cell_type": "code",
   "execution_count": 2,
   "metadata": {
    "collapsed": false
   },
   "outputs": [
    {
     "ename": "IOError",
     "evalue": "Unable to open file (File signature not found)",
     "output_type": "error",
     "traceback": [
      "\u001b[0;31m---------------------------------------------------------------------------\u001b[0m",
      "\u001b[0;31mIOError\u001b[0m                                   Traceback (most recent call last)",
      "\u001b[0;32m<ipython-input-2-08cd90110242>\u001b[0m in \u001b[0;36m<module>\u001b[0;34m()\u001b[0m\n\u001b[1;32m      1\u001b[0m \u001b[1;32mimport\u001b[0m \u001b[0mh5py\u001b[0m\u001b[1;33m,\u001b[0m \u001b[0mnumpy\u001b[0m \u001b[1;32mas\u001b[0m \u001b[0mnp\u001b[0m\u001b[1;33m\u001b[0m\u001b[0m\n\u001b[0;32m----> 2\u001b[0;31m \u001b[0ma\u001b[0m\u001b[1;33m=\u001b[0m\u001b[0mh5py\u001b[0m\u001b[1;33m.\u001b[0m\u001b[0mFile\u001b[0m\u001b[1;33m(\u001b[0m\u001b[1;34m'C:/Users/owner/Desktop/Spring18/RNN-dynamics/threebit_flipflop/data/net4_test.mat'\u001b[0m\u001b[1;33m,\u001b[0m\u001b[1;34m'r'\u001b[0m\u001b[1;33m)\u001b[0m\u001b[1;33m\u001b[0m\u001b[0m\n\u001b[0m\u001b[1;32m      3\u001b[0m \u001b[0ma\u001b[0m\u001b[1;33m.\u001b[0m\u001b[0mkeys\u001b[0m\u001b[1;33m(\u001b[0m\u001b[1;33m)\u001b[0m\u001b[1;33m\u001b[0m\u001b[0m\n",
      "\u001b[0;32mC:\\Users\\owner\\Anaconda3\\envs\\python2\\lib\\site-packages\\h5py\\_hl\\files.pyc\u001b[0m in \u001b[0;36m__init__\u001b[0;34m(self, name, mode, driver, libver, userblock_size, swmr, **kwds)\u001b[0m\n\u001b[1;32m    270\u001b[0m \u001b[1;33m\u001b[0m\u001b[0m\n\u001b[1;32m    271\u001b[0m                 \u001b[0mfapl\u001b[0m \u001b[1;33m=\u001b[0m \u001b[0mmake_fapl\u001b[0m\u001b[1;33m(\u001b[0m\u001b[0mdriver\u001b[0m\u001b[1;33m,\u001b[0m \u001b[0mlibver\u001b[0m\u001b[1;33m,\u001b[0m \u001b[1;33m**\u001b[0m\u001b[0mkwds\u001b[0m\u001b[1;33m)\u001b[0m\u001b[1;33m\u001b[0m\u001b[0m\n\u001b[0;32m--> 272\u001b[0;31m                 \u001b[0mfid\u001b[0m \u001b[1;33m=\u001b[0m \u001b[0mmake_fid\u001b[0m\u001b[1;33m(\u001b[0m\u001b[0mname\u001b[0m\u001b[1;33m,\u001b[0m \u001b[0mmode\u001b[0m\u001b[1;33m,\u001b[0m \u001b[0muserblock_size\u001b[0m\u001b[1;33m,\u001b[0m \u001b[0mfapl\u001b[0m\u001b[1;33m,\u001b[0m \u001b[0mswmr\u001b[0m\u001b[1;33m=\u001b[0m\u001b[0mswmr\u001b[0m\u001b[1;33m)\u001b[0m\u001b[1;33m\u001b[0m\u001b[0m\n\u001b[0m\u001b[1;32m    273\u001b[0m \u001b[1;33m\u001b[0m\u001b[0m\n\u001b[1;32m    274\u001b[0m                 \u001b[1;32mif\u001b[0m \u001b[0mswmr_support\u001b[0m\u001b[1;33m:\u001b[0m\u001b[1;33m\u001b[0m\u001b[0m\n",
      "\u001b[0;32mC:\\Users\\owner\\Anaconda3\\envs\\python2\\lib\\site-packages\\h5py\\_hl\\files.pyc\u001b[0m in \u001b[0;36mmake_fid\u001b[0;34m(name, mode, userblock_size, fapl, fcpl, swmr)\u001b[0m\n\u001b[1;32m     90\u001b[0m         \u001b[1;32mif\u001b[0m \u001b[0mswmr\u001b[0m \u001b[1;32mand\u001b[0m \u001b[0mswmr_support\u001b[0m\u001b[1;33m:\u001b[0m\u001b[1;33m\u001b[0m\u001b[0m\n\u001b[1;32m     91\u001b[0m             \u001b[0mflags\u001b[0m \u001b[1;33m|=\u001b[0m \u001b[0mh5f\u001b[0m\u001b[1;33m.\u001b[0m\u001b[0mACC_SWMR_READ\u001b[0m\u001b[1;33m\u001b[0m\u001b[0m\n\u001b[0;32m---> 92\u001b[0;31m         \u001b[0mfid\u001b[0m \u001b[1;33m=\u001b[0m \u001b[0mh5f\u001b[0m\u001b[1;33m.\u001b[0m\u001b[0mopen\u001b[0m\u001b[1;33m(\u001b[0m\u001b[0mname\u001b[0m\u001b[1;33m,\u001b[0m \u001b[0mflags\u001b[0m\u001b[1;33m,\u001b[0m \u001b[0mfapl\u001b[0m\u001b[1;33m=\u001b[0m\u001b[0mfapl\u001b[0m\u001b[1;33m)\u001b[0m\u001b[1;33m\u001b[0m\u001b[0m\n\u001b[0m\u001b[1;32m     93\u001b[0m     \u001b[1;32melif\u001b[0m \u001b[0mmode\u001b[0m \u001b[1;33m==\u001b[0m \u001b[1;34m'r+'\u001b[0m\u001b[1;33m:\u001b[0m\u001b[1;33m\u001b[0m\u001b[0m\n\u001b[1;32m     94\u001b[0m         \u001b[0mfid\u001b[0m \u001b[1;33m=\u001b[0m \u001b[0mh5f\u001b[0m\u001b[1;33m.\u001b[0m\u001b[0mopen\u001b[0m\u001b[1;33m(\u001b[0m\u001b[0mname\u001b[0m\u001b[1;33m,\u001b[0m \u001b[0mh5f\u001b[0m\u001b[1;33m.\u001b[0m\u001b[0mACC_RDWR\u001b[0m\u001b[1;33m,\u001b[0m \u001b[0mfapl\u001b[0m\u001b[1;33m=\u001b[0m\u001b[0mfapl\u001b[0m\u001b[1;33m)\u001b[0m\u001b[1;33m\u001b[0m\u001b[0m\n",
      "\u001b[0;32mh5py\\_objects.pyx\u001b[0m in \u001b[0;36mh5py._objects.with_phil.wrapper (C:\\Minonda\\conda-bld\\h5py_1474482483473\\work\\h5py\\_objects.c:2705)\u001b[0;34m()\u001b[0m\n",
      "\u001b[0;32mh5py\\_objects.pyx\u001b[0m in \u001b[0;36mh5py._objects.with_phil.wrapper (C:\\Minonda\\conda-bld\\h5py_1474482483473\\work\\h5py\\_objects.c:2663)\u001b[0;34m()\u001b[0m\n",
      "\u001b[0;32mh5py\\h5f.pyx\u001b[0m in \u001b[0;36mh5py.h5f.open (C:\\Minonda\\conda-bld\\h5py_1474482483473\\work\\h5py\\h5f.c:1951)\u001b[0;34m()\u001b[0m\n",
      "\u001b[0;31mIOError\u001b[0m: Unable to open file (File signature not found)"
     ]
    }
   ],
   "source": [
    "import h5py, numpy as np\n",
    "a=h5py.File('C:/Users/owner/Desktop/Spring18/RNN-dynamics/threebit_flipflop/data/net4_test.mat','r')\n",
    "a.keys()"
   ]
  },
  {
   "cell_type": "code",
   "execution_count": null,
   "metadata": {
    "collapsed": false
   },
   "outputs": [],
   "source": [
    "a['outData'][0]"
   ]
  },
  {
   "cell_type": "code",
   "execution_count": null,
   "metadata": {
    "collapsed": true
   },
   "outputs": [],
   "source": []
  },
  {
   "cell_type": "code",
   "execution_count": null,
   "metadata": {
    "collapsed": false
   },
   "outputs": [],
   "source": [
    "import sys\n",
    "sys.path"
   ]
  },
  {
   "cell_type": "code",
   "execution_count": null,
   "metadata": {
    "collapsed": false
   },
   "outputs": [],
   "source": [
    "class PCA():\n",
    "    def __init__(self, list_of_matrices, nmodes):\n",
    "        orig_dim = list_of_matrices[0].shape[1]\n",
    "        assert(all(matrix.shape[1]==orig_dim for matrix in list_of_matrices))\n",
    "        X = np.concatenate(list_of_matrices, 1)\n",
    "        U, s, VT = np.linalg.svd(X)\n",
    "        self.param_dict = {'U':U,'s':s,'VT':VT}\n",
    "        self.nmodes = nmodes\n",
    "        # np.matmul(U, np.matmul(S,VT[:,:modes]))\n",
    "    def forward(self,matrix):\n",
    "        return np.matmul(matrix, self.param_dict['VT'][:,:self.nmodes])\n",
    "        \n",
    "    def plot_SVs(self):\n",
    "        # S = np.zeros([self.param_dict['U'].shape[0],self.param_dict['VT'].shape[0]])\n",
    "        # S[0:nmodes,0:nmodes] = np.eye(nmodes)\n",
    "        plt.plot(np.log(self.param_dict['s']))\n",
    "        plt.show()\n",
    "        \n",
    "def PCA_project(X, modes, plot_SVs=True):\n",
    "    # SVD of X\n",
    "    U, s, VT = np.linalg.svd(X)\n",
    "    \n",
    "    # construct S matrix with S_vector -- there must be a better way to do this?\n",
    "    S = np.zeros([U.shape[0],VT.shape[0]])\n",
    "    for i in range(modes):\n",
    "        S[i,i] = s[i]\n",
    "\n",
    "#     print(\"shapes\", X.shape, U.shape,S.shape,VT[:,:modes].shape, (U@S@VT[:,:modes]).shape)\n",
    "    plt.plot(np.log(s))\n",
    "    plt.show()\n",
    "    return np.matmul(U, np.matmul(S,VT[:,:modes]))"
   ]
  },
  {
   "cell_type": "code",
   "execution_count": null,
   "metadata": {
    "collapsed": false
   },
   "outputs": [],
   "source": []
  },
  {
   "cell_type": "code",
   "execution_count": null,
   "metadata": {
    "ExecuteTime": {
     "end_time": "2017-09-07T07:23:28.985546Z",
     "start_time": "2017-09-07T07:23:28.621600Z"
    },
    "code_folding": [
     0
    ],
    "collapsed": false
   },
   "outputs": [],
   "source": [
    "# --> Simulating the Lorenz system.\n",
    "# from Lorenz import Lorenz\n",
    "# --> Sets the parameters to their classical values.\n",
    "# sigma, rho, beta = 10., 28., 8./3.\n",
    "\n",
    "# --> Integration time.\n",
    "t = np.linspace(0, 39, 40)\n",
    "assert(t[1]-t[0]==1)\n",
    "# Lorenz.py assumes the times are in increments of 1\n",
    "# 0,20,100\n",
    "\n",
    "# --> Produce the date to be used in the sparse identification.\n",
    "# x0 = np.array([-1, -1, -1]) # Initial condition.\n",
    "# x, dx = Lorenz(x0, sigma, rho, beta, t)\n",
    "\n",
    "fulldata = pd.read_csv(\"../../../rnndata/no_inputs.csv\", header = None).values\n",
    "x = PCA_project(fulldata, 3, False)\n",
    "# inputs = pd.read_csv(\"../../../rnndata/worldtour_inputs.csv\", header = None).values # 4-22 new\n",
    "# x = np.hstack([x,inputs])\n",
    "dx = np.gradient(x)\n",
    "dx = dx[0]\n",
    "\n",
    "# Other way:\n",
    "# pca = PCA([fulldata],3)\n",
    "# x = pca.forward(fulldata) # and make dx as above\n",
    "# equivalently, dx = pca.forward(np.gradient(fulldata)[0])\n",
    "# not equivalent to running a whole new SVD on np.gradient(fulldata)[0] \n",
    "\n",
    "\n",
    "# use first element of dx, dx[0], to return time derivative dx/dt \n",
    "# dx0 = derivative(X, t[1]-t[0])\n",
    "# --> Slightly different initial condition to highlight the chaotic nature. # hey we should try this too!\n",
    "# y0 = np.array([-8.01, 7., 27.]) # Initial condition.\n",
    "# y, dy = Lorenz(y0, sigma, rho, beta, t)\n",
    "\n",
    "# They cheated with their initial conditions. What should our IC be?\n",
    "y0 = x[0] # need this for last step odeint"
   ]
  },
  {
   "cell_type": "code",
   "execution_count": null,
   "metadata": {
    "collapsed": false
   },
   "outputs": [],
   "source": [
    "x.shape"
   ]
  },
  {
   "cell_type": "code",
   "execution_count": null,
   "metadata": {
    "ExecuteTime": {
     "end_time": "2017-09-07T07:23:30.702596Z",
     "start_time": "2017-09-07T07:23:29.049961Z"
    },
    "code_folding": [
     0
    ],
    "collapsed": false
   },
   "outputs": [],
   "source": [
    "# --> Plot time traces of the two trajectories as well as the corresponding strange attractor.\n",
    "fig = plt.figure(figsize=(1.5*w, w/2))\n",
    "gs = GridSpec(3, 6)\n",
    "\n",
    "ax0 = fig.add_subplot(gs[0, :3])\n",
    "ax0.plot(t, x[:, 0])\n",
    "# ax0.plot(t, y[:, 0])\n",
    "ax0.set_ylabel('x')\n",
    "ax0.set_xticks([])\n",
    "ax0.set_xlim(0, 320)\n",
    "\n",
    "ax1 = fig.add_subplot(gs[1, :3])\n",
    "ax1.plot(t, x[:, 1])\n",
    "# ax1.plot(t, y[:, 1])\n",
    "ax1.set_ylabel('y')\n",
    "ax1.set_xticks([])\n",
    "ax1.set_xlim(0, 320)\n",
    "\n",
    "ax2 = fig.add_subplot(gs[2, :3])\n",
    "ax2.plot(t, x[:, 2])\n",
    "# ax2.plot(t, y[:, 2])\n",
    "ax2.set_ylabel('z')\n",
    "ax2.set_xlabel('t')\n",
    "ax2.set_xlim(0, 320)\n",
    "\n",
    "ax3 = fig.add_subplot(gs[:, 3:], projection='3d')\n",
    "ax3.plot(x[:, 0], x[:, 1], x[:, 2])\n",
    "# ax3.plot(y[:, 0], y[:, 1], y[:, 2])\n",
    "ax3.set_xlabel('x', labelpad=10)\n",
    "ax3.set_ylabel('y')\n",
    "ax3.set_zlabel('z')\n"
   ]
  },
  {
   "cell_type": "code",
   "execution_count": null,
   "metadata": {
    "collapsed": false
   },
   "outputs": [],
   "source": []
  },
  {
   "cell_type": "markdown",
   "metadata": {},
   "source": [
    "Does our thing have sensitivity to initial conditions? \\cite{book:sparrow:2012}\n",
    "\n",
    "\\section{Identification}\n",
    "\n",
    "In the following, we will compare the capabilities of different algorithms used to solve the system identification problem presented earlier. For that purpose, the dictionary of functions considered is given by\n",
    "\n",
    "$$\n",
    "    \\Theta({\\bf x}) = \\begin{bmatrix} 1 & {\\bf x} & P_2({\\bf x}) & P_3({\\bf x}) & P_4({\\bf x}) & P_5({\\bf x}) \\end{bmatrix}\n",
    "$$\n",
    "\n",
    "where $P_i({\\bf x})$ is a dictionary consisting of all the i-th order polynomials in the entries of ${\\bf x}$. For $i=2$, this dictionary is thus given by\n",
    "\n",
    "$$\n",
    "    P_2({\\bf x}) = \\begin{bmatrix} x^2 & xy & xz & y^2 & yz & z^2\\end{bmatrix}\n",
    "$$\n",
    "\n",
    "The scikit-learn package provides useful utilities functions to construct such dictionaries of functions."
   ]
  },
  {
   "cell_type": "code",
   "execution_count": null,
   "metadata": {
    "ExecuteTime": {
     "end_time": "2017-09-07T07:23:30.717584Z",
     "start_time": "2017-09-07T07:23:30.704427Z"
    },
    "collapsed": true
   },
   "outputs": [],
   "source": [
    "# --> Creation of the library Theta.\n",
    "from sklearn.preprocessing import PolynomialFeatures\n",
    "library = PolynomialFeatures(degree=5, include_bias=True) # too scared\n",
    "# library.get_feature_names() or get_params()\n",
    "Theta = library.fit_transform(x) # timesteps (320) by num_features (56) (or 59 lol)\n",
    "# Theta = np.hstack([Theta,inputs]) # modified here to throw in inputs\n",
    "n_lib = library.n_output_features_ # +3\n",
    "# Ok I'm basically tacking on the inputs as a linear term. But that's a simplification\n",
    "# I could throw them in earlier so sindy tries nonlinear terms with inputs in them\n",
    "\n",
    "from scipy.linalg import block_diag\n",
    "A = block_diag(Theta, Theta, Theta) # 3x(320 by 56)\n",
    "b = dx.flatten(order='F')[:len(t)*3] # 960"
   ]
  },
  {
   "cell_type": "code",
   "execution_count": null,
   "metadata": {
    "collapsed": false
   },
   "outputs": [],
   "source": [
    "print(dir(library))\n",
    "# with inputs, library.get_feature_names() etc are wrong\n",
    "Theta.shape,A.shape,dx.shape,b.shape"
   ]
  },
  {
   "cell_type": "markdown",
   "metadata": {},
   "source": [
    "\\subsection{Ordinary least squares}\n",
    "\n",
    "The ordinary least squares is probably the simplest approach existing for system identification. The corresponding minimization problem simply reads\n",
    "\n",
    "\\begin{equation}\n",
    "    \\min_{\\xi_{OLS}} \\| \\Theta({\\bf x})\\xi_{OLS} - \\dot{\\bf x} \\|_2^2\n",
    "\\end{equation}\n",
    "\n",
    "In this case, the least-squares solution vector $\\xi_{OLS}$ can very easily be obtained. Note however that, being unconstrained, this solution vector will be dense, i.e. all of its coefficients are non-zero."
   ]
  },
  {
   "cell_type": "code",
   "execution_count": null,
   "metadata": {
    "collapsed": false
   },
   "outputs": [],
   "source": [
    "import scipy.io\n",
    "a = scipy.io.loadmat('../../../../RNN-dynamics/threebit_flipflop/data/net4_test.mat')"
   ]
  },
  {
   "cell_type": "code",
   "execution_count": null,
   "metadata": {
    "collapsed": false
   },
   "outputs": [],
   "source": [
    "a.keys()"
   ]
  },
  {
   "cell_type": "code",
   "execution_count": null,
   "metadata": {
    "ExecuteTime": {
     "end_time": "2017-09-07T09:43:55.630520Z",
     "start_time": "2017-09-07T09:43:55.510234Z"
    },
    "code_folding": [],
    "collapsed": false
   },
   "outputs": [],
   "source": [
    "%%time\n",
    "# --> Least-squares estimator.\n",
    "from sparse_identification import sindy\n",
    "ols = sindy(l1=0, l2=0, solver='lstsq') # only 'lstsq' and 'lasso' are implemented\n",
    "\n",
    "# --> Fit the OLS model.\n",
    "ols.fit(A, b)\n",
    "print 'Total number of possible terms :', ols.coef_.size\n",
    "print 'Number of non-zero coefficients :', np.count_nonzero(ols.coef_)"
   ]
  },
  {
   "cell_type": "code",
   "execution_count": null,
   "metadata": {
    "ExecuteTime": {
     "end_time": "2017-09-07T07:23:31.090057Z",
     "start_time": "2017-09-07T07:23:31.079281Z"
    },
    "code_folding": [
     0
    ],
    "collapsed": false
   },
   "outputs": [],
   "source": [
    "# --> Print on-screen the coefficients of the OLS estimator.\n",
    "\n",
    "print \"Identified equation for x : \\n\"\n",
    "print ols.coef_[:n_lib], \"\\n\"\n",
    "print \"\\n Identified equation for y : \\n\"\n",
    "print ols.coef_[n_lib:2*n_lib], \"\\n\"\n",
    "print \"\\n Identified equation for z : \\n\"\n",
    "print ols.coef_[2*n_lib:3*n_lib]"
   ]
  },
  {
   "cell_type": "markdown",
   "metadata": {},
   "source": [
    "As shown, all of the coefficients of the solution $\\xi_{OLS}$ are effectively non-zero. From a mathematical point of view, this denseness of $\\xi_{OLS}$ indicates that the ordinary least-squares estimator uses absolutely all of the atoms included in our input dictionary $\\Theta({\\bf x})$ to approximate the true function $\\mathcal{f}({\\bf x})$. Given the simplicity of the Lorenz system, this behavior is clearly related to *overfitting*, a well-known problem of regression. Note moreover that, when simulating the identified model, the inclusion of all the extra terms may slow down the computation or even cause numerical instabilities.\n",
    "\n",
    "\\subsection{$\\ell_1$-penalized least squares}\n",
    "\n",
    "A good heuristic to obtain a sparse solution vector $\\xi$ is to replace the nuclear norm $\\| \\xi \\|_0$ by its 1-norm $\\| \\xi \\|_1$ in the original problem. The resulting minimization problem reads\n",
    "\n",
    "\\begin{equation}\n",
    "        \\min_{\\xi} \\| \\Theta({\\bf x})\\xi - \\dot{\\bf x} \\|_2^2 \\\\\n",
    "        \\text{s. t. }  \\| \\xi \\|_1 \\le \\alpha\n",
    "\\end{equation}\n",
    "\n",
    "where $\\alpha$ is typically chosen as a fraction of $\\| \\xi_{OLS} \\|_1$. This problem is a convex minimization problem which can easily be solved using standard convex optimization libraries. Note however that, although the resulting solution vector $\\xi_{\\ell_1}$ is sparse, it is usually not the optimal solution. Hence, once the sparsity pattern of $\\xi$ has been determined, one then runs an additional ordinary least-squares regression retaining only the atoms of $\\Theta({\\bf x})$ corresponding to non-zero entries of $\\xi_{\\ell_1}$."
   ]
  },
  {
   "cell_type": "code",
   "execution_count": null,
   "metadata": {
    "ExecuteTime": {
     "end_time": "2017-09-07T09:44:10.508076Z",
     "start_time": "2017-09-07T09:44:10.326253Z"
    },
    "collapsed": false
   },
   "outputs": [],
   "source": [
    "%%time\n",
    "# --> l1-penalized estimator.\n",
    "from sparse_identification import sindy\n",
    "l1_penalized = sindy(l1=0.1, solver='lasso') # originally l1=0.01\n",
    "\n",
    "# --> Fit the OLS model.\n",
    "l1_penalized.fit(A, b)\n",
    "print 'Total number of possible terms :', l1_penalized.coef_.size\n",
    "print 'Number of non-zero coefficients :', np.count_nonzero(l1_penalized.coef_)"
   ]
  },
  {
   "cell_type": "code",
   "execution_count": null,
   "metadata": {
    "ExecuteTime": {
     "end_time": "2017-09-07T07:23:32.277092Z",
     "start_time": "2017-09-07T07:23:32.255802Z"
    },
    "code_folding": [
     0
    ],
    "collapsed": false
   },
   "outputs": [],
   "source": [
    "# --> Print on-screen the coefficients of the l1-penalized estimator.\n",
    "\n",
    "print \"Identified equation for x : \\n\"\n",
    "print l1_penalized.coef_[:n_lib], \"\\n\"\n",
    "print \"\\n Identified equation for y : \\n\"\n",
    "print l1_penalized.coef_[n_lib:2*n_lib], \"\\n\"\n",
    "print \"\\n Identified equation for z : \\n\"\n",
    "print l1_penalized.coef_[2*n_lib:3*n_lib]"
   ]
  },
  {
   "cell_type": "markdown",
   "metadata": {},
   "source": [
    "The $\\ell_1$-penalized estimator retains only 7 atoms out of the 168 available ones in $\\Theta({\\bf x})$. As will be shown, discarding these 161 extra atoms hardly influences the accuracy of the fit. Moreover, the coefficients identified are very close to the actual ones used in the definition of system \\eqref{eq: Lorenz system}."
   ]
  },
  {
   "cell_type": "markdown",
   "metadata": {},
   "source": [
    "\\subsection{Sequentially hard-thresholded ordinary least squares}\n",
    "\n",
    "The last algorithm considered is the one presented in \\cite{pnas:brunton:2016}. It is an iteratively hard-thresholded least-squares approach. At each iteration, only the atoms of $\\Theta({\\bf x})$ for which\n",
    "\n",
    "$$\n",
    "    \\vert \\xi_i \\vert > \\ell_1 \\displaystyle \\frac{1}{n}\\sum_{j=1}^n \\vert \\xi_j \\vert\n",
    "$$\n",
    "\n",
    "are retained. Note that only the non-zero entries of $\\xi$ are considered when evaluating the mean absolute value."
   ]
  },
  {
   "cell_type": "code",
   "execution_count": null,
   "metadata": {
    "ExecuteTime": {
     "end_time": "2017-09-07T09:44:37.681819Z",
     "start_time": "2017-09-07T09:44:37.571418Z"
    },
    "collapsed": false
   },
   "outputs": [],
   "source": [
    "%%time\n",
    "# --> Sequentially hard-thresholded estimator.\n",
    "from sparse_identification import sindy\n",
    "shols = sindy(l1=0.3, solver='lstsq')\n",
    "\n",
    "# --> Fit the OLS model.\n",
    "shols.fit(A, b)\n",
    "print 'Total number of possible terms :', shols.coef_.size\n",
    "print 'Number of non-zero coefficients :', np.count_nonzero(shols.coef_)"
   ]
  },
  {
   "cell_type": "code",
   "execution_count": null,
   "metadata": {
    "ExecuteTime": {
     "end_time": "2017-09-07T07:23:33.900402Z",
     "start_time": "2017-09-07T07:23:33.890365Z"
    },
    "code_folding": [
     0
    ],
    "collapsed": false
   },
   "outputs": [],
   "source": [
    "# --> Print on-screen the coefficients of the SH-OLS estimator.\n",
    "\n",
    "print \"Identified equation for x : \\n\"\n",
    "print shols.coef_[:n_lib], \"\\n\"\n",
    "print \"\\n Identified equation for y : \\n\"\n",
    "print shols.coef_[n_lib:2*n_lib], \"\\n\"\n",
    "print \"\\n Identified equation for z : \\n\"\n",
    "print shols.coef_[2*n_lib:3*n_lib]"
   ]
  },
  {
   "cell_type": "markdown",
   "metadata": {},
   "source": [
    "The sparsity patterns of the solution vector $\\xi$ obtained using the $\\ell_1$-penalized least-squares estimator or the present sequentially hard-thresholded one are identical. Not however that may not always be true, although they usually marginally differ from one another.\n",
    "\n",
    "\\subsection{Comparison of the predicted dynamics}"
   ]
  },
  {
   "cell_type": "code",
   "execution_count": null,
   "metadata": {
    "collapsed": false
   },
   "outputs": [],
   "source": [
    "# from Lorenz import Identified_Model # function actually ignores t, because system is autonomous\n",
    "# inputs: y,t,library,ols. output: dy\n",
    "# maybe i could have Identified_Model take in inputs (bit flips)... but how do they affect dy? let sindy figure it out \n",
    "# x_thing = Identified_Model(y0,4,library,ols) \n",
    "# x_thing\n",
    "# ols.coef_\n",
    "# np.hstack([library.transform(np.zeros((1,3))),inputs[2:3,:]])"
   ]
  },
  {
   "cell_type": "code",
   "execution_count": null,
   "metadata": {
    "collapsed": false
   },
   "outputs": [],
   "source": [
    "# def map_out(model,y0,t,library,ols,inputs):\n",
    "#     ys = np.zeros((len(t),3))\n",
    "#     ys[0] = y0\n",
    "#     for i in range(len(t)-1):\n",
    "#         dy = model(ys[i],t[i],library,ols,inputs[i])\n",
    "#         ys[i+1] = ys[i]+dy\n",
    "#         print(dy,ys[i+1])\n",
    "        \n",
    "# x_ols = map_out(Identified_Model,y0,t,library,ols,inputs)\n",
    "# x_shols = map_out(Identified_Model,y0,t,library,shols,inputs)\n",
    "# # doesn't work (numerical instability)"
   ]
  },
  {
   "cell_type": "code",
   "execution_count": null,
   "metadata": {
    "collapsed": false,
    "scrolled": true
   },
   "outputs": [],
   "source": [
    "Identified_Model(y0,t[0],library,shols)"
   ]
  },
  {
   "cell_type": "code",
   "execution_count": null,
   "metadata": {
    "ExecuteTime": {
     "end_time": "2017-09-07T09:56:29.955109Z",
     "start_time": "2017-09-07T09:56:24.411073Z"
    },
    "code_folding": [
     0
    ],
    "collapsed": false,
    "scrolled": true
   },
   "outputs": [],
   "source": [
    "# --> Run the different identified models.\n",
    "from scipy.integrate import odeint\n",
    "from Lorenz import Identified_Model\n",
    "# function that computes the derivative of output given y, t0, args are additional arguments to Identified_Model\n",
    "x_ols = odeint(Identified_Model, y0, t, args=(library, ols))\n",
    "x_shols = odeint(Identified_Model, y0, t, args=(library, shols))\n",
    "\n",
    "\n",
    "# --> Plot the results.\n",
    "fig = plt.figure(figsize=(1.5*w, w/2))\n",
    "gs = GridSpec(3, 6)\n",
    "\n",
    "ax0 = fig.add_subplot(gs[0, :3])\n",
    "ax0.plot(t, x[:, 0])\n",
    "ax0.plot(t, x_ols[:, 0])\n",
    "ax0.plot(t, x_shols[:, 0])\n",
    "ax0.set_ylabel('x')\n",
    "ax0.set_xticks([])\n",
    "# ax0.set_xlim(0, 20)\n",
    "\n",
    "ax1 = fig.add_subplot(gs[1, :3])\n",
    "ax1.plot(t, x[:, 1])\n",
    "ax1.plot(t, x_ols[:, 1])\n",
    "ax1.plot(t, x_shols[:, 1])\n",
    "ax1.set_ylabel('y')\n",
    "ax1.set_xticks([])\n",
    "# ax1.set_xlim(0, 20)\n",
    "\n",
    "ax2 = fig.add_subplot(gs[2, :3])\n",
    "ax2.plot(t, x[:, 2])\n",
    "ax2.plot(t, x_ols[:, 2])\n",
    "ax2.plot(t, x_shols[:, 2])\n",
    "ax2.set_ylabel('z')\n",
    "ax2.set_xlabel('t')\n",
    "# ax2.set_xlim(0, 20)\n",
    "\n",
    "ax3 = fig.add_subplot(gs[:, 3:], projection='3d')\n",
    "ax3.plot(x[:, 0], x[:, 1], x[:, 2])\n",
    "ax3.plot(x_ols[:, 0], x_ols[:, 1], x_ols[:, 2])\n",
    "ax3.plot(x_shols[:, 0], x_shols[:, 1], x_shols[:, 2])\n",
    "ax3.set_xlabel('x', labelpad=10)\n",
    "ax3.set_ylabel('y')\n",
    "ax3.set_zlabel('z')\n",
    "ax3.locator_params(axis='x', nbins=5)\n",
    "\n",
    "# figcaption('(Left) Time-traces of the different state variables and (right) corresponding trajectories in the three-dimensional phase space. \\\n",
    "#             In all figures, blue lines denote the ground truth evolution, while green and red are the predictions of the OLS and SH-OLS models.')"
   ]
  },
  {
   "cell_type": "markdown",
   "metadata": {},
   "source": [
    "# References\n",
    "\n",
    "[<a id=\"cit-book:sparrow:2012\" href=\"#call-book:sparrow:2012\">1</a>] C. Sparrow, ``_The Lorenz equations: bifurcations, chaos, and strange attractors_'',  2012.\n",
    "\n",
    "[<a id=\"cit-pnas:brunton:2016\" href=\"#call-pnas:brunton:2016\">2</a>] Brunton Steven L, Proctor Joshua L and Kutz J Nathan, ``_Discovering governing equations from data by sparse identification of nonlinear dynamical systems_'', Proceedings of the National Academy of Sciences, vol. 113, number 15, pp. 3932--3937,  2016.\n",
    "\n"
   ]
  },
  {
   "cell_type": "code",
   "execution_count": null,
   "metadata": {
    "collapsed": false
   },
   "outputs": [],
   "source": [
    "libz = library.fit_transform(y0.reshape(1,-1)) # 1,56\n",
    "inpz = np.zeros((1,3))\n",
    "libz = np.hstack([libz,inpz]) # 1,59. this assumes inputs[t] corresponds to time t (not true for small time increments)\n",
    "print(libz.shape)"
   ]
  },
  {
   "cell_type": "markdown",
   "metadata": {},
   "source": [
    "What a struggle! I'm still tryna figure out this whole SINDy with inputs business. Ideas:\n",
    "-write a new library function for inputs. i'd need to do this for trigonometric features.\n",
    "-just bite the bullet and make inputs \"variables\". this will explode the number of parameters, but whatever. the problem is, this causes the matrix A to not have sufficient rank or something.\n",
    "-why in odeint are the times not going to 320? there seems to be numerical instability around time 23 or something\n",
    "-why does shols time integration start from 1304 something?\n",
    "-did i choose the right initial condition? can i shrink dt?\n",
    "-maybe try a sparser or thicker system?\n",
    "\n",
    "Why are we doing SINDy? We're taking a big NLDS (1000), making it a small NLDS (3\\*56 but with sparsity)."
   ]
  },
  {
   "cell_type": "code",
   "execution_count": null,
   "metadata": {
    "collapsed": true
   },
   "outputs": [],
   "source": []
  }
 ],
 "metadata": {
  "anaconda-cloud": {},
  "author": "A (very) quick introduction to SINDy",
  "kernelspec": {
   "display_name": "Python [python2]",
   "language": "python",
   "name": "Python [python2]"
  },
  "language_info": {
   "codemirror_mode": {
    "name": "ipython",
    "version": 2
   },
   "file_extension": ".py",
   "mimetype": "text/x-python",
   "name": "python",
   "nbconvert_exporter": "python",
   "pygments_lexer": "ipython2",
   "version": "2.7.12"
  },
  "latex_envs": {
   "LaTeX_envs_menu_present": true,
   "autocomplete": true,
   "bibliofile": "biblio.bib",
   "cite_by": "number",
   "current_citInitial": 1,
   "eqLabelWithNumbers": true,
   "eqNumInitial": 1,
   "hotkeys": {
    "equation": "Ctrl-E",
    "itemize": "Ctrl-I"
   },
   "labels_anchors": false,
   "latex_user_defs": false,
   "report_style_numbering": true,
   "user_envs_cfg": true
  },
  "toc": {
   "colors": {
    "hover_highlight": "#DAA520",
    "navigate_num": "#000000",
    "navigate_text": "#333333",
    "running_highlight": "#FF0000",
    "selected_highlight": "#FFD700",
    "sidebar_border": "#EEEEEE",
    "wrapper_background": "#FFFFFF"
   },
   "moveMenuLeft": true,
   "nav_menu": {
    "height": "99px",
    "width": "252px"
   },
   "navigate_menu": true,
   "number_sections": true,
   "sideBar": true,
   "threshold": 4,
   "toc_cell": false,
   "toc_section_display": "block",
   "toc_window_display": false,
   "widenNotebook": false
  },
  "varInspector": {
   "cols": {
    "lenName": 16,
    "lenType": 16,
    "lenVar": 40
   },
   "kernels_config": {
    "python": {
     "delete_cmd_postfix": "",
     "delete_cmd_prefix": "del ",
     "library": "var_list.py",
     "varRefreshCmd": "print(var_dic_list())"
    },
    "r": {
     "delete_cmd_postfix": ") ",
     "delete_cmd_prefix": "rm(",
     "library": "var_list.r",
     "varRefreshCmd": "cat(var_dic_list()) "
    }
   },
   "types_to_exclude": [
    "module",
    "function",
    "builtin_function_or_method",
    "instance",
    "_Feature"
   ],
   "window_display": false
  }
 },
 "nbformat": 4,
 "nbformat_minor": 2
}
