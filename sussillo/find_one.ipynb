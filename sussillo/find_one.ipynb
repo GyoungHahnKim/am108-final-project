{
 "cells": [
  {
   "cell_type": "code",
   "execution_count": 17,
   "metadata": {},
   "outputs": [],
   "source": [
    "import numpy as np\n",
    "from scipy.optimize import fmin_ncg"
   ]
  },
  {
   "cell_type": "code",
   "execution_count": 145,
   "metadata": {},
   "outputs": [
    {
     "name": "stdout",
     "output_type": "stream",
     "text": [
      "Optimization terminated successfully.\n",
      "         Current function value: 0.000000\n",
      "         Iterations: 14\n",
      "         Function evaluations: 15\n",
      "         Gradient evaluations: 28\n",
      "         Hessian evaluations: 14\n",
      "1 fixed point:\n",
      " [ -4.06602301e-07  -7.79941587e-08   3.17841844e-07   3.15294635e-07\n",
      "   1.35434640e-07   6.20245649e-07  -1.69104029e-07   4.92120079e-07\n",
      "   1.78628893e-08   3.02671129e-07  -2.55054438e-07  -9.34159582e-08\n",
      "   6.18437129e-08  -4.94962795e-07  -1.99330623e-07   5.68169830e-08\n",
      "  -1.19973855e-06  -4.65023356e-09   5.13152268e-07   8.04394706e-08\n",
      "  -2.04893157e-07   1.64416228e-07   9.24786297e-08   1.22847350e-07\n",
      "   2.26024793e-09  -5.94409955e-07   4.15115413e-08  -1.84980876e-07\n",
      "   1.28871927e-07   2.04906241e-07   7.65043294e-09   2.71276914e-07\n",
      "  -9.55750257e-08  -7.76284888e-08   1.49311337e-07   1.42863189e-07\n",
      "  -7.83825766e-08  -1.64850057e-07   4.63524691e-09  -1.48339024e-07\n",
      "   2.24953792e-08   2.11385230e-07  -2.57966066e-07  -8.29031796e-07\n",
      "   2.48178617e-07  -4.59025597e-07  -4.19959941e-07  -1.34739124e-07\n",
      "   3.53723868e-07   1.53222171e-07   3.14029063e-08  -7.22008750e-08\n",
      "   4.13282246e-07   5.53359534e-08   2.51092787e-07   5.31483471e-07\n",
      "  -6.53842643e-08   4.03683069e-07  -2.40592602e-07  -1.45416993e-07\n",
      "   2.41436565e-07   1.61390252e-07  -2.82715308e-07  -1.53631529e-07\n",
      "   4.67033856e-07  -9.16523861e-08  -4.58833194e-08   2.24487132e-07\n",
      "   1.08483227e-07   3.19287668e-07  -2.51580005e-09  -5.44518688e-07\n",
      "  -1.48537476e-07  -9.88810224e-08   1.38151763e-07  -7.76911490e-08\n",
      "   6.09229649e-08   1.04624956e-07   4.84926859e-08   2.18945483e-07\n",
      "  -1.10697111e-07   2.71071222e-07  -4.49513851e-07   6.30514219e-07\n",
      "  -7.42172513e-08   5.28224802e-08   1.14490452e-07   9.63615021e-08\n",
      "  -2.04204789e-08   2.28554704e-07   2.21620662e-07  -7.36690805e-08\n",
      "  -7.62243729e-09  -1.94330976e-07  -2.77764287e-07  -2.08345266e-07\n",
      "  -5.45070747e-07  -1.74807042e-07  -2.07548143e-07  -4.67389457e-07]\n"
     ]
    }
   ],
   "source": [
    "W = np.load('weight_hh_l0.npy')\n",
    "N = W.shape[0]\n",
    "\n",
    "def f(x):\n",
    "    r = np.tanh(x)\n",
    "    dx = -x+W@r\n",
    "    return 0.5*(dx.T@dx)\n",
    "\n",
    "def grad_f(x):\n",
    "    r = np.tanh(x)\n",
    "    d1 = (1-np.power(r,2)).reshape(N,1)\n",
    "    dx = -x+W@r\n",
    "    h = ((W.T * (d1@np.ones([1,N]))) - np.identity(N))\n",
    "    return h@dx\n",
    "\n",
    "def hess_f(x):\n",
    "    r = np.tanh(x)\n",
    "    d1 = (1-np.power(r,2)).reshape(N,1)\n",
    "    dx = -x+W@r\n",
    "    h = ((W.T * (d1@np.ones([1,N]))) - np.identity(N))\n",
    "    return h@h.T\n",
    "\n",
    "x0 = np.squeeze(np.random.rand(N,1))\n",
    "xopt = fmin_ncg(f, x0, grad_f, fhess=hess_f, avextol=1e-10)\n",
    "print('1 fixed point:\\n', xopt)"
   ]
  },
  {
   "cell_type": "code",
   "execution_count": 99,
   "metadata": {},
   "outputs": [],
   "source": [
    "U,S,V = np.linalg.svd(W)"
   ]
  },
  {
   "cell_type": "code",
   "execution_count": 144,
   "metadata": {},
   "outputs": [
    {
     "data": {
      "text/plain": [
       "array([  8.05521131e-01,   6.74780250e-01,   5.40363133e-01,\n",
       "         3.28756928e-01,   1.44804180e-01,   1.30165175e-01,\n",
       "         6.45277351e-02,   4.47342396e-02,   3.15649174e-02,\n",
       "        -1.52984995e-03,  -3.34685147e-02,  -3.84451896e-02,\n",
       "        -5.72885200e-02,  -9.01701599e-02,  -9.17735994e-02,\n",
       "        -1.10737607e-01,  -1.20477580e-01,  -1.34909853e-01,\n",
       "        -1.57910451e-01,  -1.71189725e-01,  -1.91532955e-01,\n",
       "        -2.10317716e-01,  -2.37804756e-01,  -2.55068123e-01,\n",
       "        -2.77027369e-01,  -2.84318805e-01,  -2.89161772e-01,\n",
       "        -3.01014394e-01,  -3.08631748e-01,  -3.25068921e-01,\n",
       "        -3.49535853e-01,  -3.62529755e-01,  -3.67915392e-01,\n",
       "        -4.06985432e-01,  -4.24134791e-01,  -4.41912591e-01,\n",
       "        -4.53130275e-01,  -4.74112689e-01,  -4.89805073e-01,\n",
       "        -5.03628075e-01,  -5.24626732e-01,  -5.47761679e-01,\n",
       "        -5.57314336e-01,  -5.93071520e-01,  -5.99717259e-01,\n",
       "        -6.33051813e-01,  -6.54320300e-01,  -6.66962862e-01,\n",
       "        -6.92327142e-01,  -7.35780001e-01,  -7.55855918e-01,\n",
       "        -7.77369201e-01,  -7.90785909e-01,  -8.11980188e-01,\n",
       "        -8.16827774e-01,  -8.63644242e-01,  -8.87905359e-01,\n",
       "        -9.17587042e-01,  -9.45339143e-01,  -9.52237904e-01,\n",
       "        -9.89614129e-01,  -1.00288737e+00,  -1.04526567e+00,\n",
       "        -1.07103312e+00,  -1.11201668e+00,  -1.12074256e+00,\n",
       "        -1.16508937e+00,  -1.18212152e+00,  -1.20284033e+00,\n",
       "        -1.21624172e+00,  -1.27477610e+00,  -1.30231011e+00,\n",
       "        -1.34329295e+00,  -1.38492918e+00,  -1.39625227e+00,\n",
       "        -1.44791532e+00,  -1.51030171e+00,  -1.53684330e+00,\n",
       "        -1.61205339e+00,  -1.65340281e+00,  -1.67316782e+00,\n",
       "        -1.73165405e+00,  -1.78445029e+00,  -1.84943604e+00,\n",
       "        -1.93831766e+00,  -1.95314705e+00,  -2.00100088e+00,\n",
       "        -2.16476822e+00,  -2.31087613e+00,  -2.42091513e+00,\n",
       "        -2.48363352e+00,  -2.76251984e+00,  -2.80867028e+00,\n",
       "        -2.88482022e+00,  -2.97366953e+00,  -3.04535627e+00,\n",
       "        -3.38992405e+00,  -3.57978845e+00,  -4.55071831e+00,\n",
       "        -6.73907328e+00], dtype=float32)"
      ]
     },
     "execution_count": 144,
     "metadata": {},
     "output_type": "execute_result"
    }
   ],
   "source": [
    "np.log(S)"
   ]
  },
  {
   "cell_type": "code",
   "execution_count": null,
   "metadata": {
    "collapsed": true
   },
   "outputs": [],
   "source": []
  }
 ],
 "metadata": {
  "kernelspec": {
   "display_name": "Python 3",
   "language": "python",
   "name": "python3"
  },
  "language_info": {
   "codemirror_mode": {
    "name": "ipython",
    "version": 3
   },
   "file_extension": ".py",
   "mimetype": "text/x-python",
   "name": "python",
   "nbconvert_exporter": "python",
   "pygments_lexer": "ipython3",
   "version": "3.6.3"
  },
  "latex_envs": {
   "LaTeX_envs_menu_present": true,
   "autocomplete": true,
   "bibliofile": "biblio.bib",
   "cite_by": "apalike",
   "current_citInitial": 1,
   "eqLabelWithNumbers": true,
   "eqNumInitial": 1,
   "hotkeys": {
    "equation": "Ctrl-E",
    "itemize": "Ctrl-I"
   },
   "labels_anchors": false,
   "latex_user_defs": false,
   "report_style_numbering": false,
   "user_envs_cfg": false
  },
  "varInspector": {
   "cols": {
    "lenName": 16,
    "lenType": 16,
    "lenVar": 40
   },
   "kernels_config": {
    "python": {
     "delete_cmd_postfix": "",
     "delete_cmd_prefix": "del ",
     "library": "var_list.py",
     "varRefreshCmd": "print(var_dic_list())"
    },
    "r": {
     "delete_cmd_postfix": ") ",
     "delete_cmd_prefix": "rm(",
     "library": "var_list.r",
     "varRefreshCmd": "cat(var_dic_list()) "
    }
   },
   "types_to_exclude": [
    "module",
    "function",
    "builtin_function_or_method",
    "instance",
    "_Feature"
   ],
   "window_display": false
  }
 },
 "nbformat": 4,
 "nbformat_minor": 2
}
