{
 "cells": [
  {
   "cell_type": "code",
   "execution_count": null,
   "metadata": {
    "collapsed": true
   },
   "outputs": [],
   "source": [
    "import numpy as np\n",
    "import pandas as pd\n",
    "from scipy.optimize import fmin_ncg\n",
    "import matplotlib.pyplot as plt\n",
    "%matplotlib inline"
   ]
  },
  {
   "cell_type": "code",
   "execution_count": null,
   "metadata": {
    "collapsed": false
   },
   "outputs": [],
   "source": [
    "import torch\n",
    "import torch.optim as optim\n",
    "import torch.nn as nn\n",
    "import torch.nn.functional as F\n",
    "from torch.autograd import Variable\n",
    "import csv\n",
    "import time\n",
    "import argparse\n",
    "from copyfile import ThreeBitRNN, genxy\n",
    "\n",
    "HIDDEN_SIZE = 100"
   ]
  },
  {
   "cell_type": "code",
   "execution_count": null,
   "metadata": {
    "collapsed": false
   },
   "outputs": [],
   "source": [
    "# create special world tour trajectory and extract hidden states (condition-averaged)\n",
    "model = ThreeBitRNN(hidden_size=HIDDEN_SIZE)\n",
    "model.load_state_dict(torch.load('../rnndata/sifoaij27.pkl'))\n",
    "n = 101\n",
    "hids = np.zeros((320,HIDDEN_SIZE))\n",
    "traj = np.zeros((320,3))\n",
    "traj[20,0]=1\n",
    "traj[40,1]=1\n",
    "traj[60,0]=-1\n",
    "traj[80,1]=-1\n",
    "traj[100,2]=1\n",
    "traj[120,1]=1\n",
    "traj[140,0]=1\n",
    "traj[160,1]=-1\n",
    "traj[180,2]=-1\n",
    "traj[200,1]=1\n",
    "traj[220,2]=1\n",
    "traj[240,0]=-1\n",
    "traj[260,1]=-1\n",
    "traj[280,2]=-1\n",
    "traj[300,2]=-1\n",
    "# np.savetxt(\"rnndata/worldtour_inputs.csv\", traj, delimiter=',')\n",
    "for i in range(n): # condition averaging\n",
    "    trajvar = Variable(torch.Tensor(traj), requires_grad=False)\n",
    "    model.set_hidden(Variable(torch.zeros(1,1,HIDDEN_SIZE)))\n",
    "    hids += model.all_hiddens(trajvar).data.numpy()\n",
    "hids /= n"
   ]
  },
  {
   "cell_type": "code",
   "execution_count": null,
   "metadata": {
    "collapsed": true
   },
   "outputs": [],
   "source": []
  },
  {
   "cell_type": "code",
   "execution_count": null,
   "metadata": {
    "collapsed": false
   },
   "outputs": [],
   "source": [
    "W = model.rnn.state_dict()['weight_hh_l0'].numpy()\n",
    "b = model.rnn.state_dict()['bias_hh_l0'].numpy()\n",
    "bi = model.rnn.state_dict()['bias_ih_l0'].numpy()\n",
    "\n",
    "# W = np.load('../rnndata/weight_hh_l0.npy')\n",
    "# b = np.load('../rnndata/bias_hh_l0.npy')\n",
    "# bi = np.load('../rnndata/bias_ih_l0.npy')\n",
    "\n",
    "N = W.shape[0]\n",
    "\n",
    "def f(x):\n",
    "    r = np.tanh(W@x+b+bi)\n",
    "    dx = -x+r\n",
    "    return 0.5*(dx.T@dx)\n",
    "\n",
    "## optimization functions / helpers\n",
    "def f(x):\n",
    "#     r = np.tanh(x)\n",
    "#     dx = -x+W@r\n",
    "    r = np.tanh(W@x+b+bi)\n",
    "    dx = -x+r\n",
    "    return 0.5*(dx.T@dx)\n",
    "\n",
    "def grad_f(x):\n",
    "#     r = np.tanh(x)\n",
    "#     dx = -x+W@r\n",
    "    r = np.tanh(W@x+b+bi)\n",
    "    dx = -x+r\n",
    "    d1 = (1-np.power(r,2)).reshape(N,1)\n",
    "    h = ((W.T * (d1@np.ones([1,N]))) - np.identity(N))\n",
    "    return h@dx\n",
    "\n",
    "def hess_f(x):\n",
    "#     r = np.tanh(x)\n",
    "#     dx = -x+W@r\n",
    "    r = np.tanh(W@x+b+bi)\n",
    "    dx = -x+r\n",
    "    d1 = (1-np.power(r,2)).reshape(N,1)\n",
    "    h = ((W.T * (d1@np.ones([1,N]))) - np.identity(N))\n",
    "    return h@h.T"
   ]
  },
  {
   "cell_type": "code",
   "execution_count": null,
   "metadata": {
    "collapsed": true
   },
   "outputs": [],
   "source": [
    "## projection function with SVD\n",
    "def PCA_project(X, modes, plot_SVs=True):\n",
    "    # SVD of X\n",
    "    U, s, VT = np.linalg.svd(X)\n",
    "    \n",
    "    # construct S matrix with S_vector -- there must be a better way to do this?\n",
    "    S = np.zeros([U.shape[0],VT.shape[0]])\n",
    "    for i in range(modes):\n",
    "        S[i,i] = s[i]\n",
    "\n",
    "#     print(\"shapes\", X.shape, U.shape,S.shape,VT[:,:modes].shape, (U@S@VT[:,:modes]).shape)\n",
    "    if plot_SVs:\n",
    "        plt.plot(np.log(s))\n",
    "        plt.show()\n",
    "        \n",
    "    d['U']=U\n",
    "    d['S']=S\n",
    "    d['VT']=VT\n",
    "    return U@S@VT[:,:modes]"
   ]
  },
  {
   "cell_type": "code",
   "execution_count": null,
   "metadata": {
    "collapsed": false,
    "scrolled": true
   },
   "outputs": [],
   "source": [
    "# hids = pd.read_csv('../rnndata/bounce.csv', header=None).values\n",
    "\n",
    "d = {}\n",
    "trajectory_p = PCA_project(hids,3) # hids\n",
    "\n",
    "plt.figure(1)\n",
    "\n",
    "# traj_projected_split = np.split(traj_projected,n_dsets)\n",
    "# for i in range(len(traj_projected_split)):\n",
    "#     plt.subplot(311+i)\n",
    "#     for traj in traj_projected_split[i].T:\n",
    "#         plt.plot(np.arange(traj.shape[0]), traj)\n",
    "\n",
    "for tra in trajectory_p.T:\n",
    "    plt.plot(np.arange(tra.shape[0]), tra)\n",
    "\n",
    "plt.show()"
   ]
  },
  {
   "cell_type": "code",
   "execution_count": null,
   "metadata": {
    "collapsed": false
   },
   "outputs": [],
   "source": [
    "d['VT'].shape"
   ]
  },
  {
   "cell_type": "code",
   "execution_count": null,
   "metadata": {
    "collapsed": false
   },
   "outputs": [],
   "source": [
    "trajectory_p.shape, hids.shape"
   ]
  },
  {
   "cell_type": "code",
   "execution_count": null,
   "metadata": {
    "collapsed": false
   },
   "outputs": [],
   "source": [
    "## use trajectories to find nearby fixed pts\n",
    "# xs = traj_c\n",
    "xopts = []\n",
    "for x in hids:\n",
    "    xopt = fmin_ncg(f, x, grad_f, fhess=hess_f, avextol=1e-10)\n",
    "    xopts.append(xopt)\n",
    "    \n",
    "xopts = np.array(xopts)"
   ]
  },
  {
   "cell_type": "code",
   "execution_count": null,
   "metadata": {
    "collapsed": false
   },
   "outputs": [],
   "source": [
    "np.vstack([hids,xopts]).shape"
   ]
  },
  {
   "cell_type": "code",
   "execution_count": null,
   "metadata": {
    "collapsed": false
   },
   "outputs": [],
   "source": [
    "## concatenate trajectories and fixed points, project into 3D, and separate\n",
    "divide = hids.shape[0]\n",
    "# concat=np.hstack([trajectory,xopts.T])\n",
    "proj_concat = PCA_project(np.vstack([hids,xopts]),3)\n",
    "trajectory_p = proj_concat[:divide]\n",
    "# traj_projected_split = np.split(traj_projected,3)\n",
    "xopts_p = proj_concat[divide:]\n",
    "print('shapes:', trajectory_p.shape, xopts_p.shape)\n",
    "\n",
    "## alternately, SVD traj_c and project fixed points accordingly. ## not sure this is correct.\n",
    "# U, s, VT = np.linalg.svd(traj_c)\n",
    "# modes = 3\n",
    "\n",
    "# S = np.zeros([U.shape[0],VT.shape[0]])\n",
    "# for i in range(modes):\n",
    "#     S[i,i] = s[i]\n",
    "\n",
    "# xopts_projected2 = (U.T[:3,:]@xopts.T).T/s[:3]"
   ]
  },
  {
   "cell_type": "code",
   "execution_count": null,
   "metadata": {
    "collapsed": false
   },
   "outputs": [],
   "source": [
    "import plotly\n",
    "import plotly.plotly as py\n",
    "import plotly.graph_objs as go\n",
    "import pandas as pd\n",
    "import numpy as np\n",
    "import random\n",
    "plotly.tools.set_credentials_file(username='elbertgong', api_key='••••••••••')"
   ]
  },
  {
   "cell_type": "code",
   "execution_count": null,
   "metadata": {
    "collapsed": false
   },
   "outputs": [],
   "source": [
    "\n",
    "\n",
    "r = lambda: random.randint(0,255)\n",
    "color = '#%02X%02X%02X' % (r(),r(),r())\n",
    "\n",
    "# fixed points projected by U of trajectories\n",
    "x = pd.Series(xopts_p[:,0])\n",
    "y = pd.Series(xopts_p[:,1])\n",
    "z = pd.Series(xopts_p[:,2])\n",
    "\n",
    "fps = go.Scatter3d(x=x, y=y, z=z,\n",
    "    mode='markers',\n",
    "    marker=dict(\n",
    "        size=12,\n",
    "        color=z,                # set color to an array/list of desired values\n",
    "        colorscale='Viridis',   # choose a colorscale\n",
    "        opacity=0.3\n",
    "    )\n",
    ")\n",
    "\n",
    "color = '#%02X%02X%02X' % (r(),r(),r())\n",
    "\n",
    "x = pd.Series(trajectory_p[:,0])\n",
    "y = pd.Series(trajectory_p[:,1])\n",
    "z = pd.Series(trajectory_p[:,2])\n",
    "\n",
    "trace = go.Scatter3d(x=x, y=y, z=z,\n",
    "    marker=dict(\n",
    "        size=4,\n",
    "        color=color,\n",
    "        colorscale='Viridis',\n",
    "    ),\n",
    "    line=dict(\n",
    "        color=color,\n",
    "        width=1\n",
    "    )\n",
    ")\n",
    "\n",
    "data = [fps,trace]\n",
    "# data = [trace]\n",
    "\n",
    "layout = dict(\n",
    "    width=800,\n",
    "    height=700,\n",
    "    autosize=True,\n",
    "    title='3 bit flip flop',\n",
    "    scene=dict(\n",
    "        xaxis=dict(\n",
    "            gridcolor='rgb(255, 255, 255)',\n",
    "            zerolinecolor='rgb(255, 255, 255)',\n",
    "            showbackground=True,\n",
    "            backgroundcolor='rgb(230, 230,230)'\n",
    "        ),\n",
    "        yaxis=dict(\n",
    "            gridcolor='rgb(255, 255, 255)',\n",
    "            zerolinecolor='rgb(255, 255, 255)',\n",
    "            showbackground=True,\n",
    "            backgroundcolor='rgb(230, 230,230)'\n",
    "        ),\n",
    "        zaxis=dict(\n",
    "            gridcolor='rgb(255, 255, 255)',\n",
    "            zerolinecolor='rgb(255, 255, 255)',\n",
    "            showbackground=True,\n",
    "            backgroundcolor='rgb(230, 230,230)'\n",
    "        ),\n",
    "        camera=dict(\n",
    "            up=dict(\n",
    "                x=0,\n",
    "                y=0,\n",
    "                z=1\n",
    "            ),\n",
    "            eye=dict(\n",
    "                x=-1.7428,\n",
    "                y=1.0707,\n",
    "                z=0.7100,\n",
    "            )\n",
    "        ),\n",
    "        aspectratio = dict( x=1, y=1, z=0.7 ),\n",
    "        aspectmode = 'manual'\n",
    "    ),\n",
    ")\n",
    "\n",
    "fig = dict(data=data, layout=layout)\n",
    "\n",
    "# plotly.offline.iplot(fig, filename='3bit_fps_plz')#, height=700, validate=False)\n",
    "# plot(fig)"
   ]
  },
  {
   "cell_type": "code",
   "execution_count": null,
   "metadata": {
    "collapsed": false
   },
   "outputs": [],
   "source": [
    "# init_notebook_mode(connected=True)\n",
    "from plotly.graph_objs import *\n",
    "plotly.offline.plot(fig, filename='3bit_fps_plz')#, height=700, validate=False)\n",
    "# plot(fig)"
   ]
  },
  {
   "cell_type": "code",
   "execution_count": null,
   "metadata": {
    "collapsed": true
   },
   "outputs": [],
   "source": []
  },
  {
   "cell_type": "code",
   "execution_count": null,
   "metadata": {
    "collapsed": false
   },
   "outputs": [],
   "source": [
    "from mpl_toolkits.mplot3d import Axes3D\n",
    "# mpl.rcParams['legend.fontsize'] = 10\n",
    "\n",
    "fig = plt.figure()\n",
    "ax = fig.gca(projection='3d')\n",
    "ax.plot(trajectory_p[:,0],trajectory_p[:,1],zs=trajectory_p[:,2])\n",
    "# ax.set_xlim(-.2,.2)\n",
    "# ax.set_ylim(-.6,0)\n",
    "# ax.set_zlim(.1,.5)\n",
    "ax.legend()\n",
    "plt.show()"
   ]
  },
  {
   "cell_type": "code",
   "execution_count": null,
   "metadata": {
    "collapsed": false
   },
   "outputs": [],
   "source": [
    "from scipy.cluster.hierarchy import dendrogram, linkage, fcluster\n",
    "\n",
    "# number of clusters\n",
    "k = 7\n",
    "\n",
    "# computes the distance between points, merges closest based on the method\n",
    "Z=linkage(xopts, method='ward');\n",
    "\n",
    "# draws the resulting dendrogram from the clustering done by linkage\n",
    "dendrogram(Z);\n",
    "plt.show()\n",
    "# gives the cluster that each original point belongs to.\n",
    "idx = fcluster(Z,k,'maxclust');"
   ]
  },
  {
   "cell_type": "code",
   "execution_count": null,
   "metadata": {
    "collapsed": false
   },
   "outputs": [],
   "source": [
    "Z=linkage(xopts_projected, method='ward');\n",
    "\n",
    "# draws the resulting dendrogram from the clustering done by linkage\n",
    "dendrogram(Z);\n",
    "plt.show()"
   ]
  }
 ],
 "metadata": {
  "anaconda-cloud": {},
  "kernelspec": {
   "display_name": "Python [Anaconda3]",
   "language": "python",
   "name": "Python [Anaconda3]"
  },
  "language_info": {
   "codemirror_mode": {
    "name": "ipython",
    "version": 3
   },
   "file_extension": ".py",
   "mimetype": "text/x-python",
   "name": "python",
   "nbconvert_exporter": "python",
   "pygments_lexer": "ipython3",
   "version": "3.5.4"
  },
  "latex_envs": {
   "LaTeX_envs_menu_present": true,
   "autocomplete": true,
   "bibliofile": "biblio.bib",
   "cite_by": "apalike",
   "current_citInitial": 1,
   "eqLabelWithNumbers": true,
   "eqNumInitial": 1,
   "hotkeys": {
    "equation": "Ctrl-E",
    "itemize": "Ctrl-I"
   },
   "labels_anchors": false,
   "latex_user_defs": false,
   "report_style_numbering": false,
   "user_envs_cfg": false
  },
  "varInspector": {
   "cols": {
    "lenName": 16,
    "lenType": 16,
    "lenVar": 40
   },
   "kernels_config": {
    "python": {
     "delete_cmd_postfix": "",
     "delete_cmd_prefix": "del ",
     "library": "var_list.py",
     "varRefreshCmd": "print(var_dic_list())"
    },
    "r": {
     "delete_cmd_postfix": ") ",
     "delete_cmd_prefix": "rm(",
     "library": "var_list.r",
     "varRefreshCmd": "cat(var_dic_list()) "
    }
   },
   "types_to_exclude": [
    "module",
    "function",
    "builtin_function_or_method",
    "instance",
    "_Feature"
   ],
   "window_display": false
  }
 },
 "nbformat": 4,
 "nbformat_minor": 2
}
